{
 "cells": [
  {
   "cell_type": "markdown",
   "metadata": {},
   "source": [
    "# Contents\n",
    "- [Data prep](#data-preparation)\n",
    "  - [Orders all](#orders)\n",
    "  - [Process](#process-data)\n",
    "  - [Campaign](#campaign-data)\n",
    "  - [Interne study's](#intern-studys)\n",
    "- [Data Cleaning](#data-cleaning)\n",
    "  - [Orders](#cleaning-orders)\n",
    "  - [Campaign](#cleaning-campaign)\n",
    "  - [Internal](#cleaning-internal)\n",
    "  - [Process](#cleaning-process)\n",
    "- [Merging](#merging)\n",
    "  - [Ship modes](#ship-modes)\n",
    "- [KPI's](#kpis)\n",
    "  - [KPI #1](#kpi-internal)\n",
    "  - [KPI #2](#kpi-external)\n",
    "  - [KPI #3](#kpi-totallead)\n",
    "  - [Warehouse + Shipping](#days-between-warehouse-and-shipping)\n",
    "- [Evaluation Days](#evaluation-on-day)"
   ]
  },
  {
   "cell_type": "markdown",
   "metadata": {},
   "source": [
    "## Data preparation"
   ]
  },
  {
   "attachments": {},
   "cell_type": "markdown",
   "metadata": {},
   "source": [
    "Import needed libraries."
   ]
  },
  {
   "cell_type": "code",
   "execution_count": 1,
   "metadata": {},
   "outputs": [],
   "source": [
    "import pandas as pd\n",
    "import matplotlib.pyplot as plt\n",
    "import numpy as np\n",
    "import seaborn as sns"
   ]
  },
  {
   "attachments": {},
   "cell_type": "markdown",
   "metadata": {},
   "source": [
    "##### Orders  \n",
    "Dataframe for first sheet in the csv file: The orders.\n",
    "- first line in dataset is empty.    \n",
    "- can use the index from the table as the index we use "
   ]
  },
  {
   "cell_type": "code",
   "execution_count": 2,
   "metadata": {},
   "outputs": [
    {
     "data": {
      "text/html": [
       "<div>\n",
       "<style scoped>\n",
       "    .dataframe tbody tr th:only-of-type {\n",
       "        vertical-align: middle;\n",
       "    }\n",
       "\n",
       "    .dataframe tbody tr th {\n",
       "        vertical-align: top;\n",
       "    }\n",
       "\n",
       "    .dataframe thead th {\n",
       "        text-align: right;\n",
       "    }\n",
       "</style>\n",
       "<table border=\"1\" class=\"dataframe\">\n",
       "  <thead>\n",
       "    <tr style=\"text-align: right;\">\n",
       "      <th></th>\n",
       "      <th>Order ID</th>\n",
       "      <th>Order Date</th>\n",
       "      <th>Ship Mode</th>\n",
       "      <th>Customer ID</th>\n",
       "      <th>Customer Name</th>\n",
       "      <th>Origin Channel</th>\n",
       "      <th>Country/Region</th>\n",
       "      <th>City</th>\n",
       "      <th>State</th>\n",
       "      <th>Postal Code</th>\n",
       "      <th>Region</th>\n",
       "      <th>Category</th>\n",
       "      <th>Sub-Category</th>\n",
       "      <th>Product ID</th>\n",
       "      <th>Sales</th>\n",
       "      <th>Quantity</th>\n",
       "      <th>Discount</th>\n",
       "      <th>Profit</th>\n",
       "    </tr>\n",
       "    <tr>\n",
       "      <th>Index</th>\n",
       "      <th></th>\n",
       "      <th></th>\n",
       "      <th></th>\n",
       "      <th></th>\n",
       "      <th></th>\n",
       "      <th></th>\n",
       "      <th></th>\n",
       "      <th></th>\n",
       "      <th></th>\n",
       "      <th></th>\n",
       "      <th></th>\n",
       "      <th></th>\n",
       "      <th></th>\n",
       "      <th></th>\n",
       "      <th></th>\n",
       "      <th></th>\n",
       "      <th></th>\n",
       "      <th></th>\n",
       "    </tr>\n",
       "  </thead>\n",
       "  <tbody>\n",
       "    <tr>\n",
       "      <th>27</th>\n",
       "      <td>CA-2019-121755</td>\n",
       "      <td>16/1/2019</td>\n",
       "      <td>Second Class</td>\n",
       "      <td>EH-13945</td>\n",
       "      <td>Eric Hoffmann</td>\n",
       "      <td>Email</td>\n",
       "      <td>United States</td>\n",
       "      <td>Los Angeles</td>\n",
       "      <td>California</td>\n",
       "      <td>90049.0</td>\n",
       "      <td>West</td>\n",
       "      <td>Special Projects Muesil</td>\n",
       "      <td>Gluten Free</td>\n",
       "      <td>TEC-AC-10003027</td>\n",
       "      <td>90.57</td>\n",
       "      <td>3</td>\n",
       "      <td>0.0</td>\n",
       "      <td>11.7741</td>\n",
       "    </tr>\n",
       "    <tr>\n",
       "      <th>45</th>\n",
       "      <td>CA-2019-118255</td>\n",
       "      <td>11/3/2019</td>\n",
       "      <td>First Class</td>\n",
       "      <td>ON-18715</td>\n",
       "      <td>Odella Nelson</td>\n",
       "      <td>Sales</td>\n",
       "      <td>United States</td>\n",
       "      <td>Eagan</td>\n",
       "      <td>Minnesota</td>\n",
       "      <td>55122.0</td>\n",
       "      <td>Central</td>\n",
       "      <td>Special Projects Muesil</td>\n",
       "      <td>Gluten Free</td>\n",
       "      <td>TEC-AC-10000171</td>\n",
       "      <td>45.98</td>\n",
       "      <td>2</td>\n",
       "      <td>0.0</td>\n",
       "      <td>19.7714</td>\n",
       "    </tr>\n",
       "    <tr>\n",
       "      <th>48</th>\n",
       "      <td>CA-2019-169194</td>\n",
       "      <td>20/6/2019</td>\n",
       "      <td>Standard Class</td>\n",
       "      <td>LH-16900</td>\n",
       "      <td>Lena Hernandez</td>\n",
       "      <td>Email</td>\n",
       "      <td>United States</td>\n",
       "      <td>Dover</td>\n",
       "      <td>Delaware</td>\n",
       "      <td>19901.0</td>\n",
       "      <td>East</td>\n",
       "      <td>Special Projects Muesil</td>\n",
       "      <td>Gluten Free</td>\n",
       "      <td>TEC-AC-10002167</td>\n",
       "      <td>45.00</td>\n",
       "      <td>3</td>\n",
       "      <td>0.0</td>\n",
       "      <td>4.9500</td>\n",
       "    </tr>\n",
       "    <tr>\n",
       "      <th>60</th>\n",
       "      <td>CA-2019-111682</td>\n",
       "      <td>17/6/2019</td>\n",
       "      <td>First Class</td>\n",
       "      <td>TB-21055</td>\n",
       "      <td>Ted Butterfield</td>\n",
       "      <td>Email</td>\n",
       "      <td>United States</td>\n",
       "      <td>Troy</td>\n",
       "      <td>New York</td>\n",
       "      <td>12180.0</td>\n",
       "      <td>East</td>\n",
       "      <td>Special Projects Muesil</td>\n",
       "      <td>Gluten Free</td>\n",
       "      <td>TEC-AC-10002167</td>\n",
       "      <td>30.00</td>\n",
       "      <td>2</td>\n",
       "      <td>0.0</td>\n",
       "      <td>3.3000</td>\n",
       "    </tr>\n",
       "    <tr>\n",
       "      <th>63</th>\n",
       "      <td>CA-2018-135545</td>\n",
       "      <td>24/11/2018</td>\n",
       "      <td>Standard Class</td>\n",
       "      <td>KM-16720</td>\n",
       "      <td>Kunst Miller</td>\n",
       "      <td>Email</td>\n",
       "      <td>United States</td>\n",
       "      <td>Los Angeles</td>\n",
       "      <td>California</td>\n",
       "      <td>90004.0</td>\n",
       "      <td>West</td>\n",
       "      <td>Special Projects Muesil</td>\n",
       "      <td>Gluten Free</td>\n",
       "      <td>TEC-AC-10004633</td>\n",
       "      <td>13.98</td>\n",
       "      <td>2</td>\n",
       "      <td>0.0</td>\n",
       "      <td>6.1512</td>\n",
       "    </tr>\n",
       "  </tbody>\n",
       "</table>\n",
       "</div>"
      ],
      "text/plain": [
       "             Order ID  Order Date       Ship Mode Customer ID  \\\n",
       "Index                                                           \n",
       "27     CA-2019-121755   16/1/2019    Second Class    EH-13945   \n",
       "45     CA-2019-118255   11/3/2019     First Class    ON-18715   \n",
       "48     CA-2019-169194   20/6/2019  Standard Class    LH-16900   \n",
       "60     CA-2019-111682   17/6/2019     First Class    TB-21055   \n",
       "63     CA-2018-135545  24/11/2018  Standard Class    KM-16720   \n",
       "\n",
       "         Customer Name Origin Channel Country/Region         City       State  \\\n",
       "Index                                                                           \n",
       "27       Eric Hoffmann          Email  United States  Los Angeles  California   \n",
       "45       Odella Nelson          Sales  United States        Eagan   Minnesota   \n",
       "48      Lena Hernandez          Email  United States        Dover    Delaware   \n",
       "60     Ted Butterfield          Email  United States         Troy    New York   \n",
       "63        Kunst Miller          Email  United States  Los Angeles  California   \n",
       "\n",
       "       Postal Code   Region                 Category Sub-Category  \\\n",
       "Index                                                               \n",
       "27         90049.0     West  Special Projects Muesil  Gluten Free   \n",
       "45         55122.0  Central  Special Projects Muesil  Gluten Free   \n",
       "48         19901.0     East  Special Projects Muesil  Gluten Free   \n",
       "60         12180.0     East  Special Projects Muesil  Gluten Free   \n",
       "63         90004.0     West  Special Projects Muesil  Gluten Free   \n",
       "\n",
       "            Product ID  Sales  Quantity  Discount   Profit  \n",
       "Index                                                       \n",
       "27     TEC-AC-10003027  90.57         3       0.0  11.7741  \n",
       "45     TEC-AC-10000171  45.98         2       0.0  19.7714  \n",
       "48     TEC-AC-10002167  45.00         3       0.0   4.9500  \n",
       "60     TEC-AC-10002167  30.00         2       0.0   3.3000  \n",
       "63     TEC-AC-10004633  13.98         2       0.0   6.1512  "
      ]
     },
     "execution_count": 2,
     "metadata": {},
     "output_type": "execute_result"
    }
   ],
   "source": [
    "df_orders = pd.read_csv(\"data/Muesli Project raw data - Orders.csv\", header=1, index_col = 0)\n",
    "df_orders.head()"
   ]
  },
  {
   "attachments": {},
   "cell_type": "markdown",
   "metadata": {},
   "source": [
    "Using the given index from our table, and use it here. Sort it."
   ]
  },
  {
   "cell_type": "code",
   "execution_count": 3,
   "metadata": {},
   "outputs": [
    {
     "data": {
      "text/html": [
       "<div>\n",
       "<style scoped>\n",
       "    .dataframe tbody tr th:only-of-type {\n",
       "        vertical-align: middle;\n",
       "    }\n",
       "\n",
       "    .dataframe tbody tr th {\n",
       "        vertical-align: top;\n",
       "    }\n",
       "\n",
       "    .dataframe thead th {\n",
       "        text-align: right;\n",
       "    }\n",
       "</style>\n",
       "<table border=\"1\" class=\"dataframe\">\n",
       "  <thead>\n",
       "    <tr style=\"text-align: right;\">\n",
       "      <th></th>\n",
       "      <th>Order ID</th>\n",
       "      <th>Order Date</th>\n",
       "      <th>Ship Mode</th>\n",
       "      <th>Customer ID</th>\n",
       "      <th>Customer Name</th>\n",
       "      <th>Origin Channel</th>\n",
       "      <th>Country/Region</th>\n",
       "      <th>City</th>\n",
       "      <th>State</th>\n",
       "      <th>Postal Code</th>\n",
       "      <th>Region</th>\n",
       "      <th>Category</th>\n",
       "      <th>Sub-Category</th>\n",
       "      <th>Product ID</th>\n",
       "      <th>Sales</th>\n",
       "      <th>Quantity</th>\n",
       "      <th>Discount</th>\n",
       "      <th>Profit</th>\n",
       "    </tr>\n",
       "    <tr>\n",
       "      <th>Index</th>\n",
       "      <th></th>\n",
       "      <th></th>\n",
       "      <th></th>\n",
       "      <th></th>\n",
       "      <th></th>\n",
       "      <th></th>\n",
       "      <th></th>\n",
       "      <th></th>\n",
       "      <th></th>\n",
       "      <th></th>\n",
       "      <th></th>\n",
       "      <th></th>\n",
       "      <th></th>\n",
       "      <th></th>\n",
       "      <th></th>\n",
       "      <th></th>\n",
       "      <th></th>\n",
       "      <th></th>\n",
       "    </tr>\n",
       "  </thead>\n",
       "  <tbody>\n",
       "    <tr>\n",
       "      <th>1</th>\n",
       "      <td>CA-2019-152156</td>\n",
       "      <td>8/11/2019</td>\n",
       "      <td>Second Class</td>\n",
       "      <td>CG-12520</td>\n",
       "      <td>Claire Gute</td>\n",
       "      <td>Email</td>\n",
       "      <td>United States</td>\n",
       "      <td>Henderson</td>\n",
       "      <td>Kentucky</td>\n",
       "      <td>42420.0</td>\n",
       "      <td>South</td>\n",
       "      <td>Toasted Muesli</td>\n",
       "      <td>With Fruit</td>\n",
       "      <td>FUR-BO-10001798</td>\n",
       "      <td>261.9600</td>\n",
       "      <td>2</td>\n",
       "      <td>0.00</td>\n",
       "      <td>41.9136</td>\n",
       "    </tr>\n",
       "    <tr>\n",
       "      <th>2</th>\n",
       "      <td>CA-2019-152156</td>\n",
       "      <td>8/11/2019</td>\n",
       "      <td>Second Class</td>\n",
       "      <td>CG-12520</td>\n",
       "      <td>Claire Gute</td>\n",
       "      <td>Email</td>\n",
       "      <td>United States</td>\n",
       "      <td>Henderson</td>\n",
       "      <td>Kentucky</td>\n",
       "      <td>42420.0</td>\n",
       "      <td>South</td>\n",
       "      <td>Toasted Muesli</td>\n",
       "      <td>With Nuts</td>\n",
       "      <td>FUR-CH-10000454</td>\n",
       "      <td>731.9400</td>\n",
       "      <td>3</td>\n",
       "      <td>0.00</td>\n",
       "      <td>219.5820</td>\n",
       "    </tr>\n",
       "    <tr>\n",
       "      <th>3</th>\n",
       "      <td>CA-2019-138688</td>\n",
       "      <td>12/6/2019</td>\n",
       "      <td>Second Class</td>\n",
       "      <td>DV-13045</td>\n",
       "      <td>Darrin Van Huff</td>\n",
       "      <td>Sales</td>\n",
       "      <td>United States</td>\n",
       "      <td>Los Angeles</td>\n",
       "      <td>California</td>\n",
       "      <td>90036.0</td>\n",
       "      <td>West</td>\n",
       "      <td>Power Muesli</td>\n",
       "      <td>No Taste All Power</td>\n",
       "      <td>OFF-LA-10000240</td>\n",
       "      <td>14.6200</td>\n",
       "      <td>2</td>\n",
       "      <td>0.00</td>\n",
       "      <td>6.8714</td>\n",
       "    </tr>\n",
       "    <tr>\n",
       "      <th>4</th>\n",
       "      <td>US-2018-108966</td>\n",
       "      <td>11/10/2018</td>\n",
       "      <td>Standard Class</td>\n",
       "      <td>SO-20335</td>\n",
       "      <td>Sean O'Donnell</td>\n",
       "      <td>Email</td>\n",
       "      <td>United States</td>\n",
       "      <td>Fort Lauderdale</td>\n",
       "      <td>Florida</td>\n",
       "      <td>33311.0</td>\n",
       "      <td>South</td>\n",
       "      <td>Toasted Muesli</td>\n",
       "      <td>Sweetened</td>\n",
       "      <td>FUR-TA-10000577</td>\n",
       "      <td>957.5775</td>\n",
       "      <td>5</td>\n",
       "      <td>0.45</td>\n",
       "      <td>-383.0310</td>\n",
       "    </tr>\n",
       "    <tr>\n",
       "      <th>5</th>\n",
       "      <td>US-2018-108966</td>\n",
       "      <td>11/10/2018</td>\n",
       "      <td>Standard Class</td>\n",
       "      <td>SO-20335</td>\n",
       "      <td>Sean O'Donnell</td>\n",
       "      <td>Email</td>\n",
       "      <td>United States</td>\n",
       "      <td>Fort Lauderdale</td>\n",
       "      <td>Florida</td>\n",
       "      <td>33311.0</td>\n",
       "      <td>South</td>\n",
       "      <td>Power Muesli</td>\n",
       "      <td>Steel Cut</td>\n",
       "      <td>OFF-ST-10000760</td>\n",
       "      <td>22.3680</td>\n",
       "      <td>2</td>\n",
       "      <td>0.20</td>\n",
       "      <td>2.5164</td>\n",
       "    </tr>\n",
       "  </tbody>\n",
       "</table>\n",
       "</div>"
      ],
      "text/plain": [
       "             Order ID  Order Date       Ship Mode Customer ID  \\\n",
       "Index                                                           \n",
       "1      CA-2019-152156   8/11/2019    Second Class    CG-12520   \n",
       "2      CA-2019-152156   8/11/2019    Second Class    CG-12520   \n",
       "3      CA-2019-138688   12/6/2019    Second Class    DV-13045   \n",
       "4      US-2018-108966  11/10/2018  Standard Class    SO-20335   \n",
       "5      US-2018-108966  11/10/2018  Standard Class    SO-20335   \n",
       "\n",
       "         Customer Name Origin Channel Country/Region             City  \\\n",
       "Index                                                                   \n",
       "1          Claire Gute          Email  United States        Henderson   \n",
       "2          Claire Gute          Email  United States        Henderson   \n",
       "3      Darrin Van Huff          Sales  United States      Los Angeles   \n",
       "4       Sean O'Donnell          Email  United States  Fort Lauderdale   \n",
       "5       Sean O'Donnell          Email  United States  Fort Lauderdale   \n",
       "\n",
       "            State  Postal Code Region        Category        Sub-Category  \\\n",
       "Index                                                                       \n",
       "1        Kentucky      42420.0  South  Toasted Muesli          With Fruit   \n",
       "2        Kentucky      42420.0  South  Toasted Muesli           With Nuts   \n",
       "3      California      90036.0   West    Power Muesli  No Taste All Power   \n",
       "4         Florida      33311.0  South  Toasted Muesli           Sweetened   \n",
       "5         Florida      33311.0  South    Power Muesli           Steel Cut   \n",
       "\n",
       "            Product ID     Sales  Quantity  Discount    Profit  \n",
       "Index                                                           \n",
       "1      FUR-BO-10001798  261.9600         2      0.00   41.9136  \n",
       "2      FUR-CH-10000454  731.9400         3      0.00  219.5820  \n",
       "3      OFF-LA-10000240   14.6200         2      0.00    6.8714  \n",
       "4      FUR-TA-10000577  957.5775         5      0.45 -383.0310  \n",
       "5      OFF-ST-10000760   22.3680         2      0.20    2.5164  "
      ]
     },
     "execution_count": 3,
     "metadata": {},
     "output_type": "execute_result"
    }
   ],
   "source": [
    "df_orders.sort_index(inplace=True)\n",
    "df_orders.head()"
   ]
  },
  {
   "cell_type": "markdown",
   "metadata": {},
   "source": [
    "Pythonic way of headers."
   ]
  },
  {
   "cell_type": "code",
   "execution_count": 4,
   "metadata": {},
   "outputs": [
    {
     "data": {
      "text/html": [
       "<div>\n",
       "<style scoped>\n",
       "    .dataframe tbody tr th:only-of-type {\n",
       "        vertical-align: middle;\n",
       "    }\n",
       "\n",
       "    .dataframe tbody tr th {\n",
       "        vertical-align: top;\n",
       "    }\n",
       "\n",
       "    .dataframe thead th {\n",
       "        text-align: right;\n",
       "    }\n",
       "</style>\n",
       "<table border=\"1\" class=\"dataframe\">\n",
       "  <thead>\n",
       "    <tr style=\"text-align: right;\">\n",
       "      <th></th>\n",
       "      <th>order_id</th>\n",
       "      <th>order_date</th>\n",
       "      <th>ship_mode</th>\n",
       "      <th>customer_id</th>\n",
       "      <th>customer_name</th>\n",
       "      <th>origin_channel</th>\n",
       "      <th>country_region</th>\n",
       "      <th>city</th>\n",
       "      <th>state</th>\n",
       "      <th>postal_code</th>\n",
       "      <th>region</th>\n",
       "      <th>category</th>\n",
       "      <th>sub_category</th>\n",
       "      <th>product_id</th>\n",
       "      <th>sales</th>\n",
       "      <th>quantity</th>\n",
       "      <th>discount</th>\n",
       "      <th>profit</th>\n",
       "    </tr>\n",
       "    <tr>\n",
       "      <th>Index</th>\n",
       "      <th></th>\n",
       "      <th></th>\n",
       "      <th></th>\n",
       "      <th></th>\n",
       "      <th></th>\n",
       "      <th></th>\n",
       "      <th></th>\n",
       "      <th></th>\n",
       "      <th></th>\n",
       "      <th></th>\n",
       "      <th></th>\n",
       "      <th></th>\n",
       "      <th></th>\n",
       "      <th></th>\n",
       "      <th></th>\n",
       "      <th></th>\n",
       "      <th></th>\n",
       "      <th></th>\n",
       "    </tr>\n",
       "  </thead>\n",
       "  <tbody>\n",
       "    <tr>\n",
       "      <th>2693</th>\n",
       "      <td>US-2019-144211</td>\n",
       "      <td>28/8/2019</td>\n",
       "      <td>Standard Class</td>\n",
       "      <td>CS-12130</td>\n",
       "      <td>Chad Sievert</td>\n",
       "      <td>Email</td>\n",
       "      <td>United States</td>\n",
       "      <td>Englewood</td>\n",
       "      <td>Colorado</td>\n",
       "      <td>80112.0</td>\n",
       "      <td>West</td>\n",
       "      <td>Special Projects Muesil</td>\n",
       "      <td>Only Oats</td>\n",
       "      <td>TEC-PH-10002890</td>\n",
       "      <td>108.576</td>\n",
       "      <td>3</td>\n",
       "      <td>0.2</td>\n",
       "      <td>8.1432</td>\n",
       "    </tr>\n",
       "    <tr>\n",
       "      <th>1226</th>\n",
       "      <td>CA-2019-126004</td>\n",
       "      <td>4/12/2019</td>\n",
       "      <td>First Class</td>\n",
       "      <td>BM-11140</td>\n",
       "      <td>Becky Martin</td>\n",
       "      <td>Email</td>\n",
       "      <td>United States</td>\n",
       "      <td>New York City</td>\n",
       "      <td>New York</td>\n",
       "      <td>10024.0</td>\n",
       "      <td>East</td>\n",
       "      <td>Power Muesli</td>\n",
       "      <td>Nuts and more</td>\n",
       "      <td>OFF-PA-10001685</td>\n",
       "      <td>40.560</td>\n",
       "      <td>4</td>\n",
       "      <td>0.0</td>\n",
       "      <td>19.8744</td>\n",
       "    </tr>\n",
       "    <tr>\n",
       "      <th>3187</th>\n",
       "      <td>CA-2017-123498</td>\n",
       "      <td>7/11/2017</td>\n",
       "      <td>First Class</td>\n",
       "      <td>TC-20980</td>\n",
       "      <td>Tamara Chand</td>\n",
       "      <td>Sales</td>\n",
       "      <td>United States</td>\n",
       "      <td>Houston</td>\n",
       "      <td>Texas</td>\n",
       "      <td>77041.0</td>\n",
       "      <td>Central</td>\n",
       "      <td>Power Muesli</td>\n",
       "      <td>Power Clean Fibre Boost</td>\n",
       "      <td>OFF-EN-10004773</td>\n",
       "      <td>74.352</td>\n",
       "      <td>3</td>\n",
       "      <td>0.2</td>\n",
       "      <td>26.9526</td>\n",
       "    </tr>\n",
       "    <tr>\n",
       "      <th>9138</th>\n",
       "      <td>CA-2017-123400</td>\n",
       "      <td>2/2/2017</td>\n",
       "      <td>Standard Class</td>\n",
       "      <td>EB-13930</td>\n",
       "      <td>Eric Barreto</td>\n",
       "      <td>Email</td>\n",
       "      <td>United States</td>\n",
       "      <td>Saint Petersburg</td>\n",
       "      <td>Florida</td>\n",
       "      <td>33710.0</td>\n",
       "      <td>South</td>\n",
       "      <td>Power Muesli</td>\n",
       "      <td>Super Fibre Boost</td>\n",
       "      <td>OFF-BI-10000666</td>\n",
       "      <td>18.336</td>\n",
       "      <td>2</td>\n",
       "      <td>0.7</td>\n",
       "      <td>-12.2240</td>\n",
       "    </tr>\n",
       "    <tr>\n",
       "      <th>1528</th>\n",
       "      <td>CA-2019-122392</td>\n",
       "      <td>22/7/2019</td>\n",
       "      <td>Standard Class</td>\n",
       "      <td>CJ-12010</td>\n",
       "      <td>Caroline Jumper</td>\n",
       "      <td>Email</td>\n",
       "      <td>United States</td>\n",
       "      <td>Allentown</td>\n",
       "      <td>Pennsylvania</td>\n",
       "      <td>18103.0</td>\n",
       "      <td>East</td>\n",
       "      <td>Toasted Muesli</td>\n",
       "      <td>With Fruit and Nuts</td>\n",
       "      <td>FUR-FU-10002456</td>\n",
       "      <td>11.648</td>\n",
       "      <td>2</td>\n",
       "      <td>0.2</td>\n",
       "      <td>3.3488</td>\n",
       "    </tr>\n",
       "  </tbody>\n",
       "</table>\n",
       "</div>"
      ],
      "text/plain": [
       "             order_id order_date       ship_mode customer_id    customer_name  \\\n",
       "Index                                                                           \n",
       "2693   US-2019-144211  28/8/2019  Standard Class    CS-12130     Chad Sievert   \n",
       "1226   CA-2019-126004  4/12/2019     First Class    BM-11140     Becky Martin   \n",
       "3187   CA-2017-123498  7/11/2017     First Class    TC-20980     Tamara Chand   \n",
       "9138   CA-2017-123400   2/2/2017  Standard Class    EB-13930     Eric Barreto   \n",
       "1528   CA-2019-122392  22/7/2019  Standard Class    CJ-12010  Caroline Jumper   \n",
       "\n",
       "      origin_channel country_region              city         state  \\\n",
       "Index                                                                 \n",
       "2693           Email  United States         Englewood      Colorado   \n",
       "1226           Email  United States     New York City      New York   \n",
       "3187           Sales  United States           Houston         Texas   \n",
       "9138           Email  United States  Saint Petersburg       Florida   \n",
       "1528           Email  United States         Allentown  Pennsylvania   \n",
       "\n",
       "       postal_code   region                 category             sub_category  \\\n",
       "Index                                                                           \n",
       "2693       80112.0     West  Special Projects Muesil                Only Oats   \n",
       "1226       10024.0     East             Power Muesli            Nuts and more   \n",
       "3187       77041.0  Central             Power Muesli  Power Clean Fibre Boost   \n",
       "9138       33710.0    South             Power Muesli        Super Fibre Boost   \n",
       "1528       18103.0     East           Toasted Muesli      With Fruit and Nuts   \n",
       "\n",
       "            product_id    sales  quantity  discount   profit  \n",
       "Index                                                         \n",
       "2693   TEC-PH-10002890  108.576         3       0.2   8.1432  \n",
       "1226   OFF-PA-10001685   40.560         4       0.0  19.8744  \n",
       "3187   OFF-EN-10004773   74.352         3       0.2  26.9526  \n",
       "9138   OFF-BI-10000666   18.336         2       0.7 -12.2240  \n",
       "1528   FUR-FU-10002456   11.648         2       0.2   3.3488  "
      ]
     },
     "execution_count": 4,
     "metadata": {},
     "output_type": "execute_result"
    }
   ],
   "source": [
    "df_orders.columns = (df_orders.columns.str.lower()\n",
    "                    .str.replace(' ','_')\n",
    "                    .str.replace('-','_')\n",
    "                    .str.replace('/','_')\n",
    "                    )\n",
    "df_orders.sample(5)"
   ]
  },
  {
   "attachments": {},
   "cell_type": "markdown",
   "metadata": {},
   "source": [
    "Check for missing values and understanding the dataset."
   ]
  },
  {
   "cell_type": "code",
   "execution_count": 5,
   "metadata": {},
   "outputs": [
    {
     "name": "stdout",
     "output_type": "stream",
     "text": [
      "<class 'pandas.core.frame.DataFrame'>\n",
      "Int64Index: 9994 entries, 1 to 9994\n",
      "Data columns (total 18 columns):\n",
      " #   Column          Non-Null Count  Dtype  \n",
      "---  ------          --------------  -----  \n",
      " 0   order_id        9994 non-null   object \n",
      " 1   order_date      9994 non-null   object \n",
      " 2   ship_mode       9994 non-null   object \n",
      " 3   customer_id     9994 non-null   object \n",
      " 4   customer_name   9994 non-null   object \n",
      " 5   origin_channel  9994 non-null   object \n",
      " 6   country_region  9994 non-null   object \n",
      " 7   city            9994 non-null   object \n",
      " 8   state           9994 non-null   object \n",
      " 9   postal_code     9983 non-null   float64\n",
      " 10  region          9994 non-null   object \n",
      " 11  category        9994 non-null   object \n",
      " 12  sub_category    9994 non-null   object \n",
      " 13  product_id      9994 non-null   object \n",
      " 14  sales           9994 non-null   float64\n",
      " 15  quantity        9994 non-null   int64  \n",
      " 16  discount        9994 non-null   float64\n",
      " 17  profit          9994 non-null   float64\n",
      "dtypes: float64(4), int64(1), object(13)\n",
      "memory usage: 1.4+ MB\n"
     ]
    }
   ],
   "source": [
    "df_orders.info()"
   ]
  },
  {
   "cell_type": "markdown",
   "metadata": {},
   "source": [
    "We need a datetime-format instead of strings to operate on this columns."
   ]
  },
  {
   "cell_type": "code",
   "execution_count": 6,
   "metadata": {},
   "outputs": [],
   "source": [
    "#You can give a format in which your str-date is that pandas can parse more easily\n",
    "df_orders[\"order_date\"] = pd.to_datetime(df_orders[\"order_date\"],format='%d/%m/%Y')"
   ]
  },
  {
   "attachments": {},
   "cell_type": "markdown",
   "metadata": {},
   "source": [
    "We'll not work on postal_code. So we keep the missing value in this column."
   ]
  },
  {
   "attachments": {},
   "cell_type": "markdown",
   "metadata": {},
   "source": [
    "##### Process Data\n",
    "Create dataframe for our detailed order process, where we have the import `on_truck_scan_date`\n",
    "- This table has other names for the ship mode. We keep it in mind for observations.  \n",
    "\n",
    "Bring the column names in shape."
   ]
  },
  {
   "cell_type": "code",
   "execution_count": 9,
   "metadata": {},
   "outputs": [
    {
     "data": {
      "text/html": [
       "<div>\n",
       "<style scoped>\n",
       "    .dataframe tbody tr th:only-of-type {\n",
       "        vertical-align: middle;\n",
       "    }\n",
       "\n",
       "    .dataframe tbody tr th {\n",
       "        vertical-align: top;\n",
       "    }\n",
       "\n",
       "    .dataframe thead th {\n",
       "        text-align: right;\n",
       "    }\n",
       "</style>\n",
       "<table border=\"1\" class=\"dataframe\">\n",
       "  <thead>\n",
       "    <tr style=\"text-align: right;\">\n",
       "      <th></th>\n",
       "      <th>row_id</th>\n",
       "      <th>order_id</th>\n",
       "      <th>order_date</th>\n",
       "      <th>on_truck_scan_date</th>\n",
       "      <th>ship_mode</th>\n",
       "    </tr>\n",
       "  </thead>\n",
       "  <tbody>\n",
       "    <tr>\n",
       "      <th>789</th>\n",
       "      <td>1100</td>\n",
       "      <td>CA-2019-107216</td>\n",
       "      <td>14/6/2019</td>\n",
       "      <td>17/06/2019</td>\n",
       "      <td>Express</td>\n",
       "    </tr>\n",
       "    <tr>\n",
       "      <th>5739</th>\n",
       "      <td>2056</td>\n",
       "      <td>CA-2020-120376</td>\n",
       "      <td>22/12/2020</td>\n",
       "      <td>24/12/2020</td>\n",
       "      <td>Express</td>\n",
       "    </tr>\n",
       "    <tr>\n",
       "      <th>2580</th>\n",
       "      <td>8361</td>\n",
       "      <td>CA-2020-147207</td>\n",
       "      <td>2/1/2020</td>\n",
       "      <td>08/01/2020</td>\n",
       "      <td>Standard Processing</td>\n",
       "    </tr>\n",
       "    <tr>\n",
       "      <th>1812</th>\n",
       "      <td>8273</td>\n",
       "      <td>CA-2019-139549</td>\n",
       "      <td>20/10/2019</td>\n",
       "      <td>30/10/2019</td>\n",
       "      <td>Standard Processing</td>\n",
       "    </tr>\n",
       "    <tr>\n",
       "      <th>1072</th>\n",
       "      <td>4444</td>\n",
       "      <td>US-2019-111290</td>\n",
       "      <td>22/7/2019</td>\n",
       "      <td>29/07/2019</td>\n",
       "      <td>Standard Processing</td>\n",
       "    </tr>\n",
       "  </tbody>\n",
       "</table>\n",
       "</div>"
      ],
      "text/plain": [
       "      row_id        order_id  order_date on_truck_scan_date  \\\n",
       "789     1100  CA-2019-107216   14/6/2019         17/06/2019   \n",
       "5739    2056  CA-2020-120376  22/12/2020         24/12/2020   \n",
       "2580    8361  CA-2020-147207    2/1/2020         08/01/2020   \n",
       "1812    8273  CA-2019-139549  20/10/2019         30/10/2019   \n",
       "1072    4444  US-2019-111290   22/7/2019         29/07/2019   \n",
       "\n",
       "                ship_mode  \n",
       "789               Express  \n",
       "5739              Express  \n",
       "2580  Standard Processing  \n",
       "1812  Standard Processing  \n",
       "1072  Standard Processing  "
      ]
     },
     "execution_count": 9,
     "metadata": {},
     "output_type": "execute_result"
    }
   ],
   "source": [
    "df_order_process = pd.read_csv(\"data/Muesli Project raw data - Order Process Data.csv\")\n",
    "#new_col = []\n",
    "#for rows in df_order_process.columns:\n",
    "#    new_col.append(rows.lower().replace(\" \", \"_\"))\n",
    "#df_order_process.columns = new_col\n",
    "#df_order_process\n",
    "\n",
    "#should be the pandas way, because we don't want to use a slow loop\n",
    "df_order_process.columns = (df_order_process.columns.str.lower()\n",
    "                    .str.replace(' ','_')\n",
    "                    .str.replace('-','_')\n",
    "                    .str.replace('/','_')\n",
    "                    )\n",
    "\n",
    "df_order_process.sample(5)"
   ]
  },
  {
   "cell_type": "markdown",
   "metadata": {},
   "source": [
    "Set the dates in the right format."
   ]
  },
  {
   "cell_type": "code",
   "execution_count": null,
   "metadata": {},
   "outputs": [],
   "source": [
    "#You'll get hints that the process take longer if we don't use 'dayfirst'.\n",
    "df_order_process[\"order_date\"] = pd.to_datetime(df_order_process[\"order_date\"],dayfirst=True)\n",
    "df_order_process[\"on_truck_scan_date\"] = pd.to_datetime(df_order_process[\"on_truck_scan_date\"],dayfirst=True)\n",
    "df_order_process.info()"
   ]
  },
  {
   "attachments": {},
   "cell_type": "markdown",
   "metadata": {},
   "source": [
    "##### Campaign Data\n",
    "Read data from our campaign, where we can get more infomation about the arrival date. "
   ]
  },
  {
   "cell_type": "code",
   "execution_count": 11,
   "metadata": {},
   "outputs": [],
   "source": [
    "df_campaign_data = pd.read_csv(\"data/Muesli Project raw data - Campaign Data.csv\")"
   ]
  },
  {
   "attachments": {},
   "cell_type": "markdown",
   "metadata": {},
   "source": [
    "Clean up column labels and set date to the correct format."
   ]
  },
  {
   "cell_type": "code",
   "execution_count": null,
   "metadata": {},
   "outputs": [],
   "source": [
    "df_campaign_data.columns = (df_campaign_data.columns.str.lower()\n",
    "                    .str.replace(' ','_')\n",
    "                    .str.replace('-','_')\n",
    "                    .str.replace('/','_')\n",
    "                    )\n",
    "\n",
    "df_orders\n",
    "\n",
    "df_campaign_data[\"arrival_scan_date\"] = pd.to_datetime(df_campaign_data[\"arrival_scan_date\"],format='%d/%m/%Y')\n",
    "\n",
    "df_campaign_data.info()"
   ]
  },
  {
   "attachments": {},
   "cell_type": "markdown",
   "metadata": {},
   "source": [
    "##### Intern studies\n",
    "Read in the data from our internal study. There we can observe the duration of an order in the warehouse.   \n",
    "Adjusted labels and put two columns with date in the correct format. All at once!"
   ]
  },
  {
   "cell_type": "code",
   "execution_count": null,
   "metadata": {},
   "outputs": [],
   "source": [
    "df_intern_data_study = pd.read_csv(\"data/Muesli Project raw data - InternData Study.csv\")\n",
    "\n",
    "df_intern_data_study.columns = (df_intern_data_study.columns.str.lower()\n",
    "                    .str.replace(' ','_')\n",
    "                    .str.replace('-','_')\n",
    "                    .str.replace('/','_')\n",
    "                    )\n",
    "\n",
    "df_orders\n",
    "df_intern_data_study[\"ready_to_ship_date\"] = pd.to_datetime(df_intern_data_study[\"ready_to_ship_date\"],format='%d/%m/%Y')\n",
    "df_intern_data_study[\"pickup_date\"] = pd.to_datetime(df_intern_data_study[\"pickup_date\"],format='%d/%m/%Y')\n",
    "\n",
    "df_intern_data_study.info()\n",
    "df_intern_data_study.sample(5)"
   ]
  },
  {
   "attachments": {},
   "cell_type": "markdown",
   "metadata": {},
   "source": [
    "All collected data in one view."
   ]
  },
  {
   "cell_type": "code",
   "execution_count": null,
   "metadata": {},
   "outputs": [],
   "source": [
    "display(df_orders.sample(5),\n",
    "        df_order_process.sample(5),\n",
    "        df_campaign_data.sample(5),\n",
    "        df_intern_data_study.sample(5)\n",
    "        )"
   ]
  },
  {
   "attachments": {},
   "cell_type": "markdown",
   "metadata": {},
   "source": [
    "## Data Cleaning\n",
    "##### Cleaning Orders\n",
    "Delete columns in Orders that are not needed. \n",
    "We only need columns with information about the order identifier and shipping modulations.  "
   ]
  },
  {
   "cell_type": "code",
   "execution_count": 15,
   "metadata": {},
   "outputs": [
    {
     "data": {
      "text/html": [
       "<div>\n",
       "<style scoped>\n",
       "    .dataframe tbody tr th:only-of-type {\n",
       "        vertical-align: middle;\n",
       "    }\n",
       "\n",
       "    .dataframe tbody tr th {\n",
       "        vertical-align: top;\n",
       "    }\n",
       "\n",
       "    .dataframe thead th {\n",
       "        text-align: right;\n",
       "    }\n",
       "</style>\n",
       "<table border=\"1\" class=\"dataframe\">\n",
       "  <thead>\n",
       "    <tr style=\"text-align: right;\">\n",
       "      <th></th>\n",
       "      <th>order_id</th>\n",
       "      <th>order_date</th>\n",
       "      <th>ship_mode</th>\n",
       "      <th>customer_id</th>\n",
       "    </tr>\n",
       "    <tr>\n",
       "      <th>Index</th>\n",
       "      <th></th>\n",
       "      <th></th>\n",
       "      <th></th>\n",
       "      <th></th>\n",
       "    </tr>\n",
       "  </thead>\n",
       "  <tbody>\n",
       "    <tr>\n",
       "      <th>1</th>\n",
       "      <td>CA-2019-152156</td>\n",
       "      <td>2019-11-08</td>\n",
       "      <td>Second Class</td>\n",
       "      <td>CG-12520</td>\n",
       "    </tr>\n",
       "  </tbody>\n",
       "</table>\n",
       "</div>"
      ],
      "text/plain": [
       "             order_id order_date     ship_mode customer_id\n",
       "Index                                                     \n",
       "1      CA-2019-152156 2019-11-08  Second Class    CG-12520"
      ]
     },
     "execution_count": 15,
     "metadata": {},
     "output_type": "execute_result"
    }
   ],
   "source": [
    "df_orders.drop(columns=['customer_name', 'origin_channel', 'country_region', 'city', 'state', 'postal_code', 'region', 'category', 'sub_category', 'product_id',\n",
    "    'sales', 'quantity', 'discount', 'profit'], inplace= True)\n",
    "df_orders.head(1)"
   ]
  },
  {
   "attachments": {},
   "cell_type": "markdown",
   "metadata": {},
   "source": [
    "We have to clean the duplicates from the Orders table. For this step we count how many orders are in the table if we drop all duplicated rows, and how many from this `order_id`'s are unique. If these numbers match all orders can be handled as one order."
   ]
  },
  {
   "cell_type": "code",
   "execution_count": 16,
   "metadata": {},
   "outputs": [
    {
     "data": {
      "text/plain": [
       "5009"
      ]
     },
     "metadata": {},
     "output_type": "display_data"
    },
    {
     "data": {
      "text/plain": [
       "5009"
      ]
     },
     "metadata": {},
     "output_type": "display_data"
    }
   ],
   "source": [
    "display(\n",
    "    df_orders.drop_duplicates().order_id.count(),\n",
    "    df_orders.order_id.unique().size\n",
    "        )\n",
    "        "
   ]
  },
  {
   "cell_type": "code",
   "execution_count": 17,
   "metadata": {},
   "outputs": [],
   "source": [
    "df_orders.drop_duplicates(inplace=True)\n",
    "df_orders.reset_index(inplace=True,drop=True)"
   ]
  },
  {
   "attachments": {},
   "cell_type": "markdown",
   "metadata": {},
   "source": [
    "##### Cleaning Campaign\n",
    "Dropping names because they are not relevant for shipping.  \n",
    "There are no duplicates in the campaign data, so we can continue to work this way."
   ]
  },
  {
   "cell_type": "code",
   "execution_count": 18,
   "metadata": {},
   "outputs": [
    {
     "data": {
      "text/plain": [
       "order_id             333\n",
       "arrival_scan_date    333\n",
       "dtype: int64"
      ]
     },
     "metadata": {},
     "output_type": "display_data"
    },
    {
     "data": {
      "text/plain": [
       "333"
      ]
     },
     "metadata": {},
     "output_type": "display_data"
    }
   ],
   "source": [
    "df_campaign_data.drop(columns='customer_name',inplace=True)\n",
    "display(\n",
    "    df_campaign_data.count(),\n",
    "    df_campaign_data.order_id.unique().size\n",
    ")\n"
   ]
  },
  {
   "attachments": {},
   "cell_type": "markdown",
   "metadata": {},
   "source": [
    "##### Cleaning Internal\n",
    "There are duplicates in the order_id's. We checked if the lines are always equal.\n",
    "If there is no doubled `order_id` after the drop of duplicates, the same order which is ready to ship get picked up with the same transport."
   ]
  },
  {
   "cell_type": "code",
   "execution_count": 19,
   "metadata": {},
   "outputs": [
    {
     "data": {
      "text/plain": [
       "204"
      ]
     },
     "metadata": {},
     "output_type": "display_data"
    },
    {
     "data": {
      "text/plain": [
       "204"
      ]
     },
     "metadata": {},
     "output_type": "display_data"
    }
   ],
   "source": [
    "display(\n",
    "    df_intern_data_study.drop_duplicates().order_id.count(),\n",
    "    df_intern_data_study.order_id.unique().size\n",
    "        )"
   ]
  },
  {
   "attachments": {},
   "cell_type": "markdown",
   "metadata": {},
   "source": [
    "\n",
    "Since all order_id's ready_to_ship_dat and pickup_date are identical, the duplicated lines can be deleted."
   ]
  },
  {
   "cell_type": "code",
   "execution_count": 20,
   "metadata": {},
   "outputs": [],
   "source": [
    "df_intern_data_study.drop_duplicates(inplace=True)\n",
    "df_intern_data_study.reset_index(inplace =True,drop=True)"
   ]
  },
  {
   "attachments": {},
   "cell_type": "markdown",
   "metadata": {},
   "source": [
    "##### Cleaning Process\n",
    "Same for the process table. We proof if there is no id from the rows, and afterwards the rows are identical. Then we can drop the row_id column."
   ]
  },
  {
   "cell_type": "code",
   "execution_count": 21,
   "metadata": {},
   "outputs": [],
   "source": [
    "df_order_process.drop(columns='row_id',inplace=True)"
   ]
  },
  {
   "cell_type": "code",
   "execution_count": 22,
   "metadata": {},
   "outputs": [
    {
     "data": {
      "text/plain": [
       "3003"
      ]
     },
     "metadata": {},
     "output_type": "display_data"
    },
    {
     "data": {
      "text/plain": [
       "3002"
      ]
     },
     "metadata": {},
     "output_type": "display_data"
    }
   ],
   "source": [
    "display(\n",
    "    df_order_process.drop_duplicates().order_id.count(),\n",
    "    df_order_process.order_id.unique().size\n",
    "        )"
   ]
  },
  {
   "attachments": {},
   "cell_type": "markdown",
   "metadata": {},
   "source": [
    "We see that one row is different. We have to find the row and the problem."
   ]
  },
  {
   "cell_type": "code",
   "execution_count": 23,
   "metadata": {},
   "outputs": [
    {
     "data": {
      "text/html": [
       "<div>\n",
       "<style scoped>\n",
       "    .dataframe tbody tr th:only-of-type {\n",
       "        vertical-align: middle;\n",
       "    }\n",
       "\n",
       "    .dataframe tbody tr th {\n",
       "        vertical-align: top;\n",
       "    }\n",
       "\n",
       "    .dataframe thead th {\n",
       "        text-align: right;\n",
       "    }\n",
       "</style>\n",
       "<table border=\"1\" class=\"dataframe\">\n",
       "  <thead>\n",
       "    <tr style=\"text-align: right;\">\n",
       "      <th></th>\n",
       "      <th>order_id</th>\n",
       "      <th>order_date</th>\n",
       "      <th>on_truck_scan_date</th>\n",
       "      <th>ship_mode</th>\n",
       "    </tr>\n",
       "  </thead>\n",
       "  <tbody>\n",
       "    <tr>\n",
       "      <th>4217</th>\n",
       "      <td>CA-2020-101182</td>\n",
       "      <td>2020-09-04</td>\n",
       "      <td>2020-09-08</td>\n",
       "      <td>Express</td>\n",
       "    </tr>\n",
       "  </tbody>\n",
       "</table>\n",
       "</div>"
      ],
      "text/plain": [
       "            order_id order_date on_truck_scan_date ship_mode\n",
       "4217  CA-2020-101182 2020-09-04         2020-09-08   Express"
      ]
     },
     "execution_count": 23,
     "metadata": {},
     "output_type": "execute_result"
    }
   ],
   "source": [
    "df_order_process_duplicate = df_order_process.drop_duplicates()\n",
    "df_order_process_duplicate[df_order_process_duplicate['order_id'].duplicated()]"
   ]
  },
  {
   "cell_type": "code",
   "execution_count": 24,
   "metadata": {},
   "outputs": [
    {
     "data": {
      "text/html": [
       "<div>\n",
       "<style scoped>\n",
       "    .dataframe tbody tr th:only-of-type {\n",
       "        vertical-align: middle;\n",
       "    }\n",
       "\n",
       "    .dataframe tbody tr th {\n",
       "        vertical-align: top;\n",
       "    }\n",
       "\n",
       "    .dataframe thead th {\n",
       "        text-align: right;\n",
       "    }\n",
       "</style>\n",
       "<table border=\"1\" class=\"dataframe\">\n",
       "  <thead>\n",
       "    <tr style=\"text-align: right;\">\n",
       "      <th></th>\n",
       "      <th>order_id</th>\n",
       "      <th>order_date</th>\n",
       "      <th>on_truck_scan_date</th>\n",
       "      <th>ship_mode</th>\n",
       "    </tr>\n",
       "  </thead>\n",
       "  <tbody>\n",
       "    <tr>\n",
       "      <th>4216</th>\n",
       "      <td>CA-2020-101182</td>\n",
       "      <td>2020-09-04</td>\n",
       "      <td>2020-09-07</td>\n",
       "      <td>Express</td>\n",
       "    </tr>\n",
       "    <tr>\n",
       "      <th>4217</th>\n",
       "      <td>CA-2020-101182</td>\n",
       "      <td>2020-09-04</td>\n",
       "      <td>2020-09-08</td>\n",
       "      <td>Express</td>\n",
       "    </tr>\n",
       "  </tbody>\n",
       "</table>\n",
       "</div>"
      ],
      "text/plain": [
       "            order_id order_date on_truck_scan_date ship_mode\n",
       "4216  CA-2020-101182 2020-09-04         2020-09-07   Express\n",
       "4217  CA-2020-101182 2020-09-04         2020-09-08   Express"
      ]
     },
     "execution_count": 24,
     "metadata": {},
     "output_type": "execute_result"
    }
   ],
   "source": [
    "df_order_process[df_order_process['order_id'] == 'CA-2020-101182']"
   ]
  },
  {
   "attachments": {},
   "cell_type": "markdown",
   "metadata": {},
   "source": [
    "Since 2020-09-08 was a Tuesday and no truck left the warehouse this line doesn't make sence.\n",
    "We decide to drop this row and go further."
   ]
  },
  {
   "cell_type": "code",
   "execution_count": 25,
   "metadata": {},
   "outputs": [],
   "source": [
    "df_order_process.drop([4217],inplace=True)\n",
    "df_order_process.drop_duplicates(inplace=True)\n",
    "df_order_process.reset_index(inplace=True,drop=True)"
   ]
  },
  {
   "cell_type": "code",
   "execution_count": 26,
   "metadata": {},
   "outputs": [
    {
     "data": {
      "text/html": [
       "<div>\n",
       "<style scoped>\n",
       "    .dataframe tbody tr th:only-of-type {\n",
       "        vertical-align: middle;\n",
       "    }\n",
       "\n",
       "    .dataframe tbody tr th {\n",
       "        vertical-align: top;\n",
       "    }\n",
       "\n",
       "    .dataframe thead th {\n",
       "        text-align: right;\n",
       "    }\n",
       "</style>\n",
       "<table border=\"1\" class=\"dataframe\">\n",
       "  <thead>\n",
       "    <tr style=\"text-align: right;\">\n",
       "      <th></th>\n",
       "      <th>order_id</th>\n",
       "      <th>order_date</th>\n",
       "      <th>ship_mode</th>\n",
       "      <th>customer_id</th>\n",
       "    </tr>\n",
       "  </thead>\n",
       "  <tbody>\n",
       "    <tr>\n",
       "      <th>4692</th>\n",
       "      <td>US-2020-127292</td>\n",
       "      <td>2020-01-19</td>\n",
       "      <td>Standard Class</td>\n",
       "      <td>RM-19375</td>\n",
       "    </tr>\n",
       "    <tr>\n",
       "      <th>3476</th>\n",
       "      <td>CA-2020-123687</td>\n",
       "      <td>2020-05-26</td>\n",
       "      <td>First Class</td>\n",
       "      <td>KC-16675</td>\n",
       "    </tr>\n",
       "    <tr>\n",
       "      <th>2357</th>\n",
       "      <td>CA-2017-121573</td>\n",
       "      <td>2017-11-03</td>\n",
       "      <td>Standard Class</td>\n",
       "      <td>SG-20605</td>\n",
       "    </tr>\n",
       "    <tr>\n",
       "      <th>3566</th>\n",
       "      <td>CA-2020-150609</td>\n",
       "      <td>2020-04-30</td>\n",
       "      <td>Standard Class</td>\n",
       "      <td>NZ-18565</td>\n",
       "    </tr>\n",
       "    <tr>\n",
       "      <th>3844</th>\n",
       "      <td>CA-2018-133242</td>\n",
       "      <td>2018-06-18</td>\n",
       "      <td>Standard Class</td>\n",
       "      <td>KH-16510</td>\n",
       "    </tr>\n",
       "  </tbody>\n",
       "</table>\n",
       "</div>"
      ],
      "text/plain": [
       "            order_id order_date       ship_mode customer_id\n",
       "4692  US-2020-127292 2020-01-19  Standard Class    RM-19375\n",
       "3476  CA-2020-123687 2020-05-26     First Class    KC-16675\n",
       "2357  CA-2017-121573 2017-11-03  Standard Class    SG-20605\n",
       "3566  CA-2020-150609 2020-04-30  Standard Class    NZ-18565\n",
       "3844  CA-2018-133242 2018-06-18  Standard Class    KH-16510"
      ]
     },
     "metadata": {},
     "output_type": "display_data"
    },
    {
     "data": {
      "text/html": [
       "<div>\n",
       "<style scoped>\n",
       "    .dataframe tbody tr th:only-of-type {\n",
       "        vertical-align: middle;\n",
       "    }\n",
       "\n",
       "    .dataframe tbody tr th {\n",
       "        vertical-align: top;\n",
       "    }\n",
       "\n",
       "    .dataframe thead th {\n",
       "        text-align: right;\n",
       "    }\n",
       "</style>\n",
       "<table border=\"1\" class=\"dataframe\">\n",
       "  <thead>\n",
       "    <tr style=\"text-align: right;\">\n",
       "      <th></th>\n",
       "      <th>order_id</th>\n",
       "      <th>order_date</th>\n",
       "      <th>on_truck_scan_date</th>\n",
       "      <th>ship_mode</th>\n",
       "    </tr>\n",
       "  </thead>\n",
       "  <tbody>\n",
       "    <tr>\n",
       "      <th>1013</th>\n",
       "      <td>CA-2019-118759</td>\n",
       "      <td>2019-11-14</td>\n",
       "      <td>2019-11-18</td>\n",
       "      <td>Express</td>\n",
       "    </tr>\n",
       "    <tr>\n",
       "      <th>2168</th>\n",
       "      <td>US-2020-135230</td>\n",
       "      <td>2020-09-01</td>\n",
       "      <td>2020-09-09</td>\n",
       "      <td>Standard Processing</td>\n",
       "    </tr>\n",
       "    <tr>\n",
       "      <th>2150</th>\n",
       "      <td>CA-2020-151008</td>\n",
       "      <td>2020-09-07</td>\n",
       "      <td>2020-09-09</td>\n",
       "      <td>Express</td>\n",
       "    </tr>\n",
       "    <tr>\n",
       "      <th>2587</th>\n",
       "      <td>CA-2020-106691</td>\n",
       "      <td>2020-11-06</td>\n",
       "      <td>2020-11-13</td>\n",
       "      <td>Standard Processing</td>\n",
       "    </tr>\n",
       "    <tr>\n",
       "      <th>414</th>\n",
       "      <td>CA-2019-122448</td>\n",
       "      <td>2019-06-09</td>\n",
       "      <td>2019-06-19</td>\n",
       "      <td>Standard Processing</td>\n",
       "    </tr>\n",
       "  </tbody>\n",
       "</table>\n",
       "</div>"
      ],
      "text/plain": [
       "            order_id order_date on_truck_scan_date            ship_mode\n",
       "1013  CA-2019-118759 2019-11-14         2019-11-18              Express\n",
       "2168  US-2020-135230 2020-09-01         2020-09-09  Standard Processing\n",
       "2150  CA-2020-151008 2020-09-07         2020-09-09              Express\n",
       "2587  CA-2020-106691 2020-11-06         2020-11-13  Standard Processing\n",
       "414   CA-2019-122448 2019-06-09         2019-06-19  Standard Processing"
      ]
     },
     "metadata": {},
     "output_type": "display_data"
    },
    {
     "data": {
      "text/html": [
       "<div>\n",
       "<style scoped>\n",
       "    .dataframe tbody tr th:only-of-type {\n",
       "        vertical-align: middle;\n",
       "    }\n",
       "\n",
       "    .dataframe tbody tr th {\n",
       "        vertical-align: top;\n",
       "    }\n",
       "\n",
       "    .dataframe thead th {\n",
       "        text-align: right;\n",
       "    }\n",
       "</style>\n",
       "<table border=\"1\" class=\"dataframe\">\n",
       "  <thead>\n",
       "    <tr style=\"text-align: right;\">\n",
       "      <th></th>\n",
       "      <th>order_id</th>\n",
       "      <th>arrival_scan_date</th>\n",
       "    </tr>\n",
       "  </thead>\n",
       "  <tbody>\n",
       "    <tr>\n",
       "      <th>129</th>\n",
       "      <td>CA-2019-102932</td>\n",
       "      <td>2019-09-30</td>\n",
       "    </tr>\n",
       "    <tr>\n",
       "      <th>241</th>\n",
       "      <td>CA-2019-130393</td>\n",
       "      <td>2019-12-09</td>\n",
       "    </tr>\n",
       "    <tr>\n",
       "      <th>314</th>\n",
       "      <td>CA-2020-124716</td>\n",
       "      <td>2020-04-06</td>\n",
       "    </tr>\n",
       "    <tr>\n",
       "      <th>304</th>\n",
       "      <td>CA-2020-104885</td>\n",
       "      <td>2020-03-16</td>\n",
       "    </tr>\n",
       "    <tr>\n",
       "      <th>27</th>\n",
       "      <td>CA-2019-160500</td>\n",
       "      <td>2019-05-14</td>\n",
       "    </tr>\n",
       "  </tbody>\n",
       "</table>\n",
       "</div>"
      ],
      "text/plain": [
       "           order_id arrival_scan_date\n",
       "129  CA-2019-102932        2019-09-30\n",
       "241  CA-2019-130393        2019-12-09\n",
       "314  CA-2020-124716        2020-04-06\n",
       "304  CA-2020-104885        2020-03-16\n",
       "27   CA-2019-160500        2019-05-14"
      ]
     },
     "metadata": {},
     "output_type": "display_data"
    },
    {
     "data": {
      "text/html": [
       "<div>\n",
       "<style scoped>\n",
       "    .dataframe tbody tr th:only-of-type {\n",
       "        vertical-align: middle;\n",
       "    }\n",
       "\n",
       "    .dataframe tbody tr th {\n",
       "        vertical-align: top;\n",
       "    }\n",
       "\n",
       "    .dataframe thead th {\n",
       "        text-align: right;\n",
       "    }\n",
       "</style>\n",
       "<table border=\"1\" class=\"dataframe\">\n",
       "  <thead>\n",
       "    <tr style=\"text-align: right;\">\n",
       "      <th></th>\n",
       "      <th>order_id</th>\n",
       "      <th>ready_to_ship_date</th>\n",
       "      <th>pickup_date</th>\n",
       "    </tr>\n",
       "  </thead>\n",
       "  <tbody>\n",
       "    <tr>\n",
       "      <th>96</th>\n",
       "      <td>CA-2020-154109</td>\n",
       "      <td>2020-11-11</td>\n",
       "      <td>2020-11-13</td>\n",
       "    </tr>\n",
       "    <tr>\n",
       "      <th>197</th>\n",
       "      <td>CA-2020-159506</td>\n",
       "      <td>2020-12-02</td>\n",
       "      <td>2020-12-04</td>\n",
       "    </tr>\n",
       "    <tr>\n",
       "      <th>75</th>\n",
       "      <td>US-2020-153948</td>\n",
       "      <td>2020-11-06</td>\n",
       "      <td>2020-11-06</td>\n",
       "    </tr>\n",
       "    <tr>\n",
       "      <th>57</th>\n",
       "      <td>CA-2019-154235</td>\n",
       "      <td>2019-09-30</td>\n",
       "      <td>2019-10-02</td>\n",
       "    </tr>\n",
       "    <tr>\n",
       "      <th>44</th>\n",
       "      <td>CA-2019-102932</td>\n",
       "      <td>2019-09-23</td>\n",
       "      <td>2019-09-25</td>\n",
       "    </tr>\n",
       "  </tbody>\n",
       "</table>\n",
       "</div>"
      ],
      "text/plain": [
       "           order_id ready_to_ship_date pickup_date\n",
       "96   CA-2020-154109         2020-11-11  2020-11-13\n",
       "197  CA-2020-159506         2020-12-02  2020-12-04\n",
       "75   US-2020-153948         2020-11-06  2020-11-06\n",
       "57   CA-2019-154235         2019-09-30  2019-10-02\n",
       "44   CA-2019-102932         2019-09-23  2019-09-25"
      ]
     },
     "metadata": {},
     "output_type": "display_data"
    }
   ],
   "source": [
    "display(df_orders.sample(5),\n",
    "        df_order_process.sample(5),\n",
    "        df_campaign_data.sample(5),\n",
    "        df_intern_data_study.sample(5)\n",
    "        )"
   ]
  },
  {
   "attachments": {},
   "cell_type": "markdown",
   "metadata": {},
   "source": [
    "## Merging\n",
    "\n",
    "We want to creat a table with all possible dates in it.\n",
    "We match our internal study with all of our orders. So we can get the shipping date and the arrival date for the orders we have.  \n",
    "The next step is that we bring in the campaign data for more information about arrival at the customer.  \n",
    "Last step ist to get the information about the truck scan date from the detailed intern process."
   ]
  },
  {
   "cell_type": "code",
   "execution_count": 27,
   "metadata": {},
   "outputs": [],
   "source": [
    "df_orders_mrg = pd.merge(df_orders, df_intern_data_study, how='left', on=[\"order_id\"])\n",
    "\n",
    "df_orders_mrg = pd.merge(df_orders_mrg, df_campaign_data, how='left', on=[\"order_id\"])\n",
    "df_orders_mrg = pd.merge(df_orders_mrg, df_order_process[['order_id','on_truck_scan_date']],how='left',on=['order_id'])"
   ]
  },
  {
   "attachments": {},
   "cell_type": "markdown",
   "metadata": {},
   "source": [
    "We need to change the dates from a string to a datetime format."
   ]
  },
  {
   "cell_type": "code",
   "execution_count": 28,
   "metadata": {},
   "outputs": [
    {
     "data": {
      "text/html": [
       "<div>\n",
       "<style scoped>\n",
       "    .dataframe tbody tr th:only-of-type {\n",
       "        vertical-align: middle;\n",
       "    }\n",
       "\n",
       "    .dataframe tbody tr th {\n",
       "        vertical-align: top;\n",
       "    }\n",
       "\n",
       "    .dataframe thead th {\n",
       "        text-align: right;\n",
       "    }\n",
       "</style>\n",
       "<table border=\"1\" class=\"dataframe\">\n",
       "  <thead>\n",
       "    <tr style=\"text-align: right;\">\n",
       "      <th></th>\n",
       "      <th>order_id</th>\n",
       "      <th>order_date</th>\n",
       "      <th>ship_mode</th>\n",
       "      <th>customer_id</th>\n",
       "      <th>ready_to_ship_date</th>\n",
       "      <th>pickup_date</th>\n",
       "      <th>arrival_scan_date</th>\n",
       "      <th>on_truck_scan_date</th>\n",
       "      <th>order_day</th>\n",
       "      <th>order_dayname</th>\n",
       "      <th>arrival_scan_day</th>\n",
       "    </tr>\n",
       "  </thead>\n",
       "  <tbody>\n",
       "    <tr>\n",
       "      <th>3655</th>\n",
       "      <td>CA-2020-168389</td>\n",
       "      <td>2020-12-11</td>\n",
       "      <td>Standard Class</td>\n",
       "      <td>DV-13045</td>\n",
       "      <td>NaT</td>\n",
       "      <td>NaT</td>\n",
       "      <td>NaT</td>\n",
       "      <td>2020-12-18</td>\n",
       "      <td>4</td>\n",
       "      <td>Friday</td>\n",
       "      <td>NaN</td>\n",
       "    </tr>\n",
       "    <tr>\n",
       "      <th>3311</th>\n",
       "      <td>CA-2018-153794</td>\n",
       "      <td>2018-09-11</td>\n",
       "      <td>Standard Class</td>\n",
       "      <td>SB-20290</td>\n",
       "      <td>NaT</td>\n",
       "      <td>NaT</td>\n",
       "      <td>NaT</td>\n",
       "      <td>NaT</td>\n",
       "      <td>1</td>\n",
       "      <td>Tuesday</td>\n",
       "      <td>NaN</td>\n",
       "    </tr>\n",
       "    <tr>\n",
       "      <th>1029</th>\n",
       "      <td>CA-2020-155460</td>\n",
       "      <td>2020-04-13</td>\n",
       "      <td>First Class</td>\n",
       "      <td>RW-19630</td>\n",
       "      <td>NaT</td>\n",
       "      <td>NaT</td>\n",
       "      <td>NaT</td>\n",
       "      <td>2020-04-15</td>\n",
       "      <td>0</td>\n",
       "      <td>Monday</td>\n",
       "      <td>NaN</td>\n",
       "    </tr>\n",
       "    <tr>\n",
       "      <th>4953</th>\n",
       "      <td>CA-2019-122581</td>\n",
       "      <td>2019-08-21</td>\n",
       "      <td>Standard Class</td>\n",
       "      <td>JK-15370</td>\n",
       "      <td>NaT</td>\n",
       "      <td>NaT</td>\n",
       "      <td>NaT</td>\n",
       "      <td>2019-08-28</td>\n",
       "      <td>2</td>\n",
       "      <td>Wednesday</td>\n",
       "      <td>NaN</td>\n",
       "    </tr>\n",
       "    <tr>\n",
       "      <th>3400</th>\n",
       "      <td>US-2019-163461</td>\n",
       "      <td>2019-06-18</td>\n",
       "      <td>First Class</td>\n",
       "      <td>BT-11440</td>\n",
       "      <td>NaT</td>\n",
       "      <td>NaT</td>\n",
       "      <td>NaT</td>\n",
       "      <td>2019-06-21</td>\n",
       "      <td>1</td>\n",
       "      <td>Tuesday</td>\n",
       "      <td>NaN</td>\n",
       "    </tr>\n",
       "  </tbody>\n",
       "</table>\n",
       "</div>"
      ],
      "text/plain": [
       "            order_id order_date       ship_mode customer_id  \\\n",
       "3655  CA-2020-168389 2020-12-11  Standard Class    DV-13045   \n",
       "3311  CA-2018-153794 2018-09-11  Standard Class    SB-20290   \n",
       "1029  CA-2020-155460 2020-04-13     First Class    RW-19630   \n",
       "4953  CA-2019-122581 2019-08-21  Standard Class    JK-15370   \n",
       "3400  US-2019-163461 2019-06-18     First Class    BT-11440   \n",
       "\n",
       "     ready_to_ship_date pickup_date arrival_scan_date on_truck_scan_date  \\\n",
       "3655                NaT         NaT               NaT         2020-12-18   \n",
       "3311                NaT         NaT               NaT                NaT   \n",
       "1029                NaT         NaT               NaT         2020-04-15   \n",
       "4953                NaT         NaT               NaT         2019-08-28   \n",
       "3400                NaT         NaT               NaT         2019-06-21   \n",
       "\n",
       "      order_day order_dayname  arrival_scan_day  \n",
       "3655          4        Friday               NaN  \n",
       "3311          1       Tuesday               NaN  \n",
       "1029          0        Monday               NaN  \n",
       "4953          2     Wednesday               NaN  \n",
       "3400          1       Tuesday               NaN  "
      ]
     },
     "execution_count": 28,
     "metadata": {},
     "output_type": "execute_result"
    }
   ],
   "source": [
    "df_orders_mrg['order_day'] = df_orders_mrg['order_date'].dt.weekday\n",
    "df_orders_mrg['order_dayname'] = df_orders_mrg['order_date'].dt.day_name()\n",
    "df_orders_mrg['arrival_scan_day'] = df_orders_mrg['arrival_scan_date'].dt.weekday\n",
    "df_orders_mrg.sample(5)"
   ]
  },
  {
   "attachments": {},
   "cell_type": "markdown",
   "metadata": {},
   "source": [
    "Check if there is always a `pickup_date` for `on_truck_scan_date`:\n",
    "Join internally to process, then check how many entries there are for `pickup_date`."
   ]
  },
  {
   "cell_type": "code",
   "execution_count": 29,
   "metadata": {},
   "outputs": [
    {
     "data": {
      "text/plain": [
       "204"
      ]
     },
     "execution_count": 29,
     "metadata": {},
     "output_type": "execute_result"
    }
   ],
   "source": [
    "\n",
    "df_process_intern_test = pd.merge(df_order_process,df_intern_data_study,how='left',on=['order_id'])\n",
    "df_process_intern_test['pickup_date'].count()"
   ]
  },
  {
   "attachments": {},
   "cell_type": "markdown",
   "metadata": {},
   "source": [
    "We created a table with all dates we have from our data. Now it's time to create the KPIs."
   ]
  },
  {
   "attachments": {},
   "cell_type": "markdown",
   "metadata": {},
   "source": [
    "##### Ship modes\n",
    "For our KPIs we need to know if there is a difference in the ship modes, especially in `Second Class` and `Standard Class`."
   ]
  },
  {
   "cell_type": "code",
   "execution_count": 30,
   "metadata": {},
   "outputs": [],
   "source": [
    "df_mode_mrg =  pd.merge(df_orders, df_order_process[['order_id','ship_mode']], how='left', on=[\"order_id\"])\n",
    "df_mode_mrg.dropna(inplace=True)"
   ]
  },
  {
   "cell_type": "code",
   "execution_count": 31,
   "metadata": {},
   "outputs": [
    {
     "data": {
      "text/html": [
       "<div>\n",
       "<style scoped>\n",
       "    .dataframe tbody tr th:only-of-type {\n",
       "        vertical-align: middle;\n",
       "    }\n",
       "\n",
       "    .dataframe tbody tr th {\n",
       "        vertical-align: top;\n",
       "    }\n",
       "\n",
       "    .dataframe thead th {\n",
       "        text-align: right;\n",
       "    }\n",
       "</style>\n",
       "<table border=\"1\" class=\"dataframe\">\n",
       "  <thead>\n",
       "    <tr style=\"text-align: right;\">\n",
       "      <th></th>\n",
       "      <th>order_id</th>\n",
       "      <th>order_date</th>\n",
       "      <th>ship_mode_x</th>\n",
       "      <th>customer_id</th>\n",
       "      <th>ship_mode_y</th>\n",
       "      <th>mode</th>\n",
       "    </tr>\n",
       "  </thead>\n",
       "  <tbody>\n",
       "  </tbody>\n",
       "</table>\n",
       "</div>"
      ],
      "text/plain": [
       "Empty DataFrame\n",
       "Columns: [order_id, order_date, ship_mode_x, customer_id, ship_mode_y, mode]\n",
       "Index: []"
      ]
     },
     "execution_count": 31,
     "metadata": {},
     "output_type": "execute_result"
    }
   ],
   "source": [
    "df_mode_mrg['mode'] = df_mode_mrg.apply(lambda x:True if (\n",
    "                x['ship_mode_x'] == 'Second Class' and x['ship_mode_y'] == 'Standard Processing') or\n",
    "                (x['ship_mode_x'] == 'Standard Class' and x['ship_mode_y'] == 'Standard Processing') or\n",
    "                (x['ship_mode_x'] == 'First Class' and x['ship_mode_y'] == 'Express')\n",
    "                else False ,axis=1)\n",
    "df_mode_mrg[df_mode_mrg['mode'] == False]"
   ]
  },
  {
   "attachments": {},
   "cell_type": "markdown",
   "metadata": {},
   "source": [
    "Since all columns have a `True` in the mode column, `Second Class` and `Standard Class`, are the same as `Standard Processing` and `First Class` is always `Express`"
   ]
  },
  {
   "attachments": {},
   "cell_type": "markdown",
   "metadata": {},
   "source": [
    "## KPIs\n",
    "We need to create time spans between the processes. \n",
    "-   `interncycle`:  time from receiving the order up to be ready for shipping\n",
    "-   `btwcycle`:     time between ready in our warehouse up to picked up by the logistic company\n",
    "-   `externcycle`:  the time the logistic company needs based on our campaign\n",
    "-   `totallead`:    the time a order needs overall"
   ]
  },
  {
   "cell_type": "code",
   "execution_count": 32,
   "metadata": {},
   "outputs": [],
   "source": [
    "df_orders_mrg['interncycle'] = df_orders_mrg['ready_to_ship_date'] - df_orders_mrg['order_date']\n",
    "df_orders_mrg['btwcycle'] = df_orders_mrg['on_truck_scan_date'] - df_orders_mrg['ready_to_ship_date']\n",
    "df_orders_mrg['externcycle'] = df_orders_mrg['arrival_scan_date'] - df_orders_mrg['on_truck_scan_date']\n",
    "df_orders_mrg['totallead'] = df_orders_mrg['arrival_scan_date'] - df_orders_mrg['order_date']\n"
   ]
  },
  {
   "attachments": {},
   "cell_type": "markdown",
   "metadata": {},
   "source": [
    "##### KPI Internal\n",
    "The KPI for the internal process. Here we find out how long the Muesli company needs and it is important how we organize us.  \n",
    "**KPI 1:**  `4.18 days`"
   ]
  },
  {
   "cell_type": "code",
   "execution_count": null,
   "metadata": {},
   "outputs": [],
   "source": [
    "df_kpi_intern = df_orders_mrg[df_orders_mrg['interncycle'].notnull()] \n",
    "display(\n",
    "    print('KPI 1 : '+ str(pd.to_numeric(df_kpi_intern.interncycle.dt.days,downcast='integer').mean().round(2))+ 'days'),\n",
    "    pd.to_numeric(df_kpi_intern.interncycle.dt.days,downcast='integer').describe()\n",
    "    )"
   ]
  },
  {
   "attachments": {},
   "cell_type": "markdown",
   "metadata": {},
   "source": [
    "We want to observe how our internal process is going. Can we hold the 3 days to ship the order?"
   ]
  },
  {
   "cell_type": "code",
   "execution_count": 34,
   "metadata": {},
   "outputs": [
    {
     "data": {
      "image/png": "[encoded data removed]",
      "text/plain": [
       "<Figure size 800x400 with 2 Axes>"
      ]
     },
     "metadata": {},
     "output_type": "display_data"
    }
   ],
   "source": [
    "kpi_intern_plot = df_kpi_intern['interncycle']\n",
    "kpi_intern_plot = pd.to_numeric(kpi_intern_plot.dt.days,downcast='integer')\n",
    "kpi_intern_plot.reset_index(drop=True,inplace=True)\n",
    "\n",
    "sns.set(style='darkgrid')\n",
    "f, (ax_box, ax_hist) = plt.subplots(2,sharex=True,gridspec_kw={'height_ratios':(0.1,0.85)},figsize=(8,4))\n",
    "\n",
    "sns.boxplot(x=kpi_intern_plot,ax=ax_box,color='darkcyan',\n",
    "            showmeans=True,\n",
    "            meanline=True,\n",
    "            meanprops={'color': 'black', 'ls': '-'},\n",
    "            medianprops={'visible': False},\n",
    "            )\n",
    "# adding a text-box at(mean,1)\n",
    "ax_box.text(kpi_intern_plot.mean(),                                     \n",
    "            1,\n",
    "            s='mean {:.2f}'.format(kpi_intern_plot.mean()),\n",
    "            horizontalalignment='center',\n",
    "            color='dimgrey'\n",
    "            )\n",
    "\n",
    "bins= np.arange(-0.5,9.5,1)\n",
    "sns.histplot(data=kpi_intern_plot,\n",
    "            bins=bins,\n",
    "            color='darkcyan',\n",
    "            ax=ax_hist,\n",
    "            edgecolor='dimgray'\n",
    "            )\n",
    "\n",
    "            \n",
    "ax_box.set(xlabel='')\n",
    "plt.subplots_adjust(hspace=0.15)\n",
    "plt.xlabel('Days')\n",
    "plt.ylabel('Orders')\n",
    "plt.show()"
   ]
  },
  {
   "cell_type": "markdown",
   "metadata": {},
   "source": [
    "We split up the shippings in Express and Standard."
   ]
  },
  {
   "cell_type": "code",
   "execution_count": 35,
   "metadata": {},
   "outputs": [],
   "source": [
    "s_kpi_intern_std = pd.concat([df_kpi_intern[df_kpi_intern['ship_mode'] == 'Second Class']['interncycle'],\n",
    "                                df_kpi_intern[df_kpi_intern['ship_mode'] == 'Standard Class']['interncycle']])\n",
    "\n",
    "s_kpi_intern_std = pd.to_numeric(s_kpi_intern_std.dt.days,downcast='integer')\n",
    "s_kpi_intern_std.reset_index(inplace=True,drop=True)\n",
    "\n",
    "s_kpi_intern_exp =df_kpi_intern[df_kpi_intern['ship_mode'] == 'First Class']['interncycle']\n",
    "s_kpi_intern_exp = pd.to_numeric(s_kpi_intern_exp.dt.days,downcast='integer')\n",
    "s_kpi_intern_exp.reset_index(inplace=True,drop=True)"
   ]
  },
  {
   "attachments": {},
   "cell_type": "markdown",
   "metadata": {},
   "source": [
    "Standard Delivery:  \n",
    "We want to separate the data in `Standard Delivery` and `Express Delivery`. Is there an advantage?"
   ]
  },
  {
   "cell_type": "code",
   "execution_count": 36,
   "metadata": {},
   "outputs": [
    {
     "data": {
      "image/png": "[encoded data removed]",
      "text/plain": [
       "<Figure size 800x400 with 2 Axes>"
      ]
     },
     "metadata": {},
     "output_type": "display_data"
    }
   ],
   "source": [
    "sns.set(style='darkgrid')\n",
    "f, (ax_box, ax_hist) = plt.subplots(2,sharex=True,gridspec_kw={'height_ratios':(0.1,0.85)},figsize=(8,4))\n",
    "\n",
    "sns.boxplot(x=s_kpi_intern_std,ax=ax_box,color='darkcyan',\n",
    "            showmeans=True,\n",
    "            meanline=True,\n",
    "            meanprops={'color': 'black', 'ls': '-'},\n",
    "            medianprops={'visible': False}\n",
    "            )\n",
    "\n",
    "ax_box.text(s_kpi_intern_std.mean(),                                     \n",
    "            1,\n",
    "            s='mean {:.2f}'.format(s_kpi_intern_std.mean()),\n",
    "            horizontalalignment='center',\n",
    "            color='dimgrey'\n",
    "            )\n",
    "\n",
    "bins= np.arange(1.5,9.5,1)\n",
    "sns.histplot(data=s_kpi_intern_std,\n",
    "            bins=bins,\n",
    "            color='darkcyan',\n",
    "            ax=ax_hist,\n",
    "            edgecolor='dimgray'\n",
    "            )\n",
    "\n",
    "ax_box.set(xlabel='')\n",
    "plt.subplots_adjust(hspace=0.15)\n",
    "plt.xlabel('Days')\n",
    "plt.ylabel('Orders')\n",
    "plt.show()"
   ]
  },
  {
   "attachments": {},
   "cell_type": "markdown",
   "metadata": {},
   "source": [
    "Express Delivery:  \n",
    "We need to be careful because there are only 50 data points."
   ]
  },
  {
   "cell_type": "code",
   "execution_count": 37,
   "metadata": {},
   "outputs": [
    {
     "data": {
      "image/png": "[encoded data removed]",
      "text/plain": [
       "<Figure size 800x400 with 2 Axes>"
      ]
     },
     "metadata": {},
     "output_type": "display_data"
    }
   ],
   "source": [
    "sns.set(style='darkgrid')\n",
    "f, (ax_box, ax_hist) = plt.subplots(2,sharex=True,gridspec_kw={'height_ratios':(0.1,0.85)},figsize=(8,4))\n",
    "\n",
    "sns.boxplot(x=s_kpi_intern_exp,ax=ax_box,color='darkcyan',\n",
    "            showmeans=True,\n",
    "            meanline=True,\n",
    "            meanprops={'color': 'black', 'ls': '-'},\n",
    "            medianprops={'visible': False}\n",
    "            )\n",
    "\n",
    "ax_box.text(s_kpi_intern_exp.mean(),                                     \n",
    "            1,\n",
    "            s='mean {:.2f}'.format(s_kpi_intern_exp.mean()),\n",
    "            horizontalalignment='center',\n",
    "            color='dimgrey'\n",
    "            )\n",
    "\n",
    "bins= np.arange(-0.5,6.5,1)\n",
    "sns.histplot(data=s_kpi_intern_exp,\n",
    "            bins=bins,\n",
    "            color='darkcyan',\n",
    "            ax=ax_hist,\n",
    "            edgecolor='dimgray'\n",
    "            )\n",
    "\n",
    "ax_box.set(xlabel='')\n",
    "plt.subplots_adjust(hspace=0.15)\n",
    "plt.xlabel('Days')\n",
    "plt.show()"
   ]
  },
  {
   "attachments": {},
   "cell_type": "markdown",
   "metadata": {},
   "source": [
    "##### KPI External\n",
    "How long does an order need between loading on the truck and it arrives at the customer.\n",
    "The **2nd KPI** is `4.6 Days`"
   ]
  },
  {
   "cell_type": "code",
   "execution_count": null,
   "metadata": {},
   "outputs": [],
   "source": [
    "df_kpi_extern = df_orders_mrg[df_orders_mrg['externcycle'].notnull()]\n",
    "display(\n",
    "    print('KPI 2 : '+ str(pd.to_numeric(df_kpi_extern.externcycle.dt.days,downcast='integer').mean().round(2))+ 'days'),\n",
    "    pd.to_numeric(df_kpi_extern.externcycle.dt.days,downcast='integer').describe()\n",
    "    )\n",
    "df_kpi_extern.info()"
   ]
  },
  {
   "cell_type": "code",
   "execution_count": 39,
   "metadata": {},
   "outputs": [
    {
     "data": {
      "image/png": "[encoded data removed]",
      "text/plain": [
       "<Figure size 800x400 with 2 Axes>"
      ]
     },
     "metadata": {},
     "output_type": "display_data"
    }
   ],
   "source": [
    "kpi_extern_plot = df_kpi_extern['externcycle']\n",
    "kpi_extern_plot = pd.to_numeric(kpi_extern_plot.dt.days,downcast='integer')\n",
    "kpi_extern_plot.reset_index(drop=True,inplace=True)\n",
    "\n",
    "sns.set(style='darkgrid')\n",
    "f, (ax_box, ax_hist) = plt.subplots(2,sharex=True,gridspec_kw={'height_ratios':(0.1,0.85)},figsize=(8,4))\n",
    "\n",
    "sns.boxplot(x=kpi_extern_plot,\n",
    "            ax=ax_box,\n",
    "            color='#ffffb3',\n",
    "            showmeans=True,\n",
    "            meanline=True,\n",
    "            meanprops={'color': 'dimgray', 'ls': '-'},\n",
    "            medianprops={'visible': False}\n",
    "            )\n",
    "\n",
    "ax_box.text(kpi_extern_plot.mean(),                                     \n",
    "            1,\n",
    "            s='mean {:.2f}'.format(kpi_extern_plot.mean()),\n",
    "            horizontalalignment='center',\n",
    "            color='dimgrey'\n",
    "            )\n",
    "\n",
    "bins= np.arange(0.5,8.5,1)\n",
    "sns.histplot(data=kpi_extern_plot,\n",
    "            bins=bins,\n",
    "            color='#ffffb3',\n",
    "            ax=ax_hist,\n",
    "            edgecolor=\"dimgray\"\n",
    "            )\n",
    "\n",
    "ax_box.set(xlabel='')\n",
    "plt.subplots_adjust(hspace=0.15)\n",
    "plt.xlabel('Days')\n",
    "plt.ylabel('Orders')\n",
    "plt.show()"
   ]
  },
  {
   "cell_type": "code",
   "execution_count": 40,
   "metadata": {},
   "outputs": [],
   "source": [
    "s_kpi_extern_std = pd.concat([df_kpi_extern[df_kpi_extern['ship_mode'] == 'Second Class']['externcycle'],\n",
    "                                df_kpi_extern[df_kpi_extern['ship_mode'] == 'Standard Class']['externcycle']])\n",
    "\n",
    "s_kpi_extern_std = pd.to_numeric(s_kpi_extern_std.dt.days,downcast='integer')\n",
    "s_kpi_intern_std.reset_index(inplace=True,drop=True)\n",
    "\n",
    "s_kpi_extern_exp =df_kpi_extern[df_kpi_extern['ship_mode'] == 'First Class']['externcycle']\n",
    "s_kpi_extern_exp = pd.to_numeric(s_kpi_extern_exp.dt.days,downcast='integer')\n",
    "s_kpi_extern_exp.reset_index(inplace=True,drop=True)"
   ]
  },
  {
   "cell_type": "markdown",
   "metadata": {},
   "source": [
    "Standard delivery:"
   ]
  },
  {
   "cell_type": "code",
   "execution_count": 41,
   "metadata": {},
   "outputs": [
    {
     "data": {
      "image/png": "[encoded data removed]",
      "text/plain": [
       "<Figure size 800x400 with 2 Axes>"
      ]
     },
     "metadata": {},
     "output_type": "display_data"
    }
   ],
   "source": [
    "sns.set(style='darkgrid')\n",
    "f, (ax_box, ax_hist) = plt.subplots(2,sharex=True,gridspec_kw={'height_ratios':(0.1,0.85)},figsize=(8,4))\n",
    "\n",
    "sns.boxplot(x=s_kpi_extern_std,ax=ax_box,\n",
    "            color='#ffffb3',\n",
    "            showmeans=True,\n",
    "            meanline=True,\n",
    "            meanprops={'color': 'dimgray', 'ls': '-'},\n",
    "            medianprops={'visible': False}\n",
    "            )\n",
    "\n",
    "ax_box.text(s_kpi_extern_std.mean(),                                     \n",
    "            1,\n",
    "            s='mean {:.2f}'.format(s_kpi_extern_std.mean()),\n",
    "            horizontalalignment='center',\n",
    "            color='dimgrey'\n",
    "            )\n",
    "\n",
    "bins= np.arange(0.5,8.5,1)\n",
    "sns.histplot(data=s_kpi_extern_std,\n",
    "            bins=bins,\n",
    "            color='#ffffb3',\n",
    "            ax=ax_hist,\n",
    "            edgecolor=\"dimgray\"\n",
    "            )\n",
    "\n",
    "ax_box.set(xlabel='')\n",
    "plt.subplots_adjust(hspace=0.15)\n",
    "plt.xlabel('Days')\n",
    "plt.ylabel('Orders')\n",
    "plt.show()"
   ]
  },
  {
   "cell_type": "markdown",
   "metadata": {},
   "source": [
    "Express Delivery:"
   ]
  },
  {
   "cell_type": "code",
   "execution_count": 42,
   "metadata": {},
   "outputs": [
    {
     "data": {
      "image/png": "[encoded data removed]",
      "text/plain": [
       "<Figure size 800x400 with 2 Axes>"
      ]
     },
     "metadata": {},
     "output_type": "display_data"
    }
   ],
   "source": [
    "sns.set(style='darkgrid')\n",
    "f, (ax_box, ax_hist) = plt.subplots(2,sharex=True,gridspec_kw={'height_ratios':(0.1,0.85)},figsize=(8,4))\n",
    "\n",
    "sns.boxplot(x=s_kpi_extern_exp,ax=ax_box,\n",
    "            color='#ffffb3',\n",
    "            showmeans=True,\n",
    "            meanline=True,\n",
    "            meanprops={'color': 'dimgray', 'ls': '-'},\n",
    "            medianprops={'visible': False}\n",
    "            )\n",
    "\n",
    "ax_box.text(s_kpi_extern_exp.mean(),\n",
    "            1,\n",
    "            s='mean {:.2f}'.format(s_kpi_extern_exp.mean()),\n",
    "            horizontalalignment='center',\n",
    "            color='dimgrey'\n",
    "            )\n",
    "\n",
    "bins= np.arange(1.5,8.5,1)\n",
    "sns.histplot(data=s_kpi_extern_exp,\n",
    "            bins=bins,\n",
    "            color='#ffffb3',\n",
    "            ax=ax_hist,\n",
    "            edgecolor=\"dimgray\"\n",
    "            )\n",
    "\n",
    "ax_box.set(xlabel='')\n",
    "plt.subplots_adjust(hspace=0.15)\n",
    "plt.xlabel('Days')\n",
    "plt.show()"
   ]
  },
  {
   "cell_type": "markdown",
   "metadata": {},
   "source": [
    "##### KPI Totallead\n",
    "\n",
    "we calculate the **KPI3**: `10.83 days`"
   ]
  },
  {
   "cell_type": "code",
   "execution_count": null,
   "metadata": {},
   "outputs": [],
   "source": [
    "df_kpi_total = df_orders_mrg[df_orders_mrg['totallead'].notnull()]\n",
    "display(\n",
    "    print('KPI 2 : '+ str(pd.to_numeric(df_kpi_total.totallead.dt.days,downcast='integer').mean().round(2))+ 'days'),\n",
    "    pd.to_numeric(df_kpi_total.totallead.dt.days,downcast='integer').describe()\n",
    "    )\n",
    "df_kpi_extern.info()"
   ]
  },
  {
   "cell_type": "code",
   "execution_count": 44,
   "metadata": {},
   "outputs": [
    {
     "data": {
      "image/png": "[encoded data removed]",
      "text/plain": [
       "<Figure size 800x400 with 2 Axes>"
      ]
     },
     "metadata": {},
     "output_type": "display_data"
    }
   ],
   "source": [
    "kpi_total_plot = df_kpi_total['totallead']\n",
    "kpi_total_plot = pd.to_numeric(kpi_total_plot.dt.days,downcast='integer')\n",
    "kpi_total_plot.reset_index(drop=True,inplace=True)\n",
    "\n",
    "sns.set(style='darkgrid')\n",
    "f, (ax_box, ax_hist) = plt.subplots(2,sharex=True,gridspec_kw={'height_ratios':(0.1,0.85)},figsize=(8,4))\n",
    "\n",
    "sns.boxplot(x=kpi_total_plot,\n",
    "            ax=ax_box,\n",
    "            color='#bebada',\n",
    "            showmeans=True,\n",
    "            meanline=True,\n",
    "            meanprops={'color': 'dimgray', 'ls': '-'},\n",
    "            medianprops={'visible': False}\n",
    "            )\n",
    "\n",
    "ax_box.text(kpi_total_plot.mean(),                                     \n",
    "            1,\n",
    "            s='mean {:.2f}'.format(kpi_total_plot.mean()),\n",
    "            horizontalalignment='center',\n",
    "            color='dimgrey'\n",
    "            )\n",
    "\n",
    "#ax_box.text(kpi_total_plot.quantile(0.95),                                     \n",
    "#            1,\n",
    "#            s='mean {:.2f}'.format(kpi_total_plot.quantile(0.95)),\n",
    "#            horizontalalignment='center',\n",
    "#            color='dimgrey'\n",
    "#            )\n",
    "\n",
    "bins= np.arange(2.5,18.5,1)\n",
    "sns.histplot(data=kpi_total_plot,\n",
    "            bins=bins,\n",
    "            color='#bebada',\n",
    "            ax=ax_hist,\n",
    "            edgecolor=\"dimgray\"\n",
    "            )\n",
    "\n",
    "ax_box.set(xlabel='')\n",
    "plt.subplots_adjust(hspace=0.15)\n",
    "plt.xlabel('Days')\n",
    "plt.ylabel('Orders')\n",
    "plt.show()"
   ]
  },
  {
   "cell_type": "code",
   "execution_count": 45,
   "metadata": {},
   "outputs": [],
   "source": [
    "s_kpi_total_std = pd.concat([df_kpi_total[df_kpi_total['ship_mode'] == 'Second Class']['totallead'],\n",
    "                                df_kpi_total[df_kpi_total['ship_mode'] == 'Standard Class']['totallead']])\n",
    "\n",
    "s_kpi_total_std = pd.to_numeric(s_kpi_total_std.dt.days,downcast='integer')\n",
    "s_kpi_total_std.reset_index(inplace=True,drop=True)\n",
    "\n",
    "s_kpi_total_exp =df_kpi_total[df_kpi_total['ship_mode'] == 'First Class']['totallead']\n",
    "s_kpi_total_exp = pd.to_numeric(s_kpi_total_exp.dt.days,downcast='integer')\n",
    "s_kpi_total_exp.reset_index(inplace=True,drop=True)"
   ]
  },
  {
   "cell_type": "markdown",
   "metadata": {},
   "source": [
    "Standard Delivery:"
   ]
  },
  {
   "cell_type": "code",
   "execution_count": 46,
   "metadata": {},
   "outputs": [
    {
     "data": {
      "image/png": "[encoded data removed]",
      "text/plain": [
       "<Figure size 800x400 with 2 Axes>"
      ]
     },
     "metadata": {},
     "output_type": "display_data"
    }
   ],
   "source": [
    "sns.set(style='darkgrid')\n",
    "f, (ax_box, ax_hist) = plt.subplots(2,sharex=True,gridspec_kw={'height_ratios':(0.1,0.85)},figsize=(8,4))\n",
    "\n",
    "sns.boxplot(x=s_kpi_total_std,ax=ax_box,\n",
    "            color='#bebada',\n",
    "            showmeans=True,\n",
    "            meanline=True,\n",
    "            meanprops={'color': 'dimgray', 'ls': '-'},\n",
    "            medianprops={'visible': False}\n",
    "            )\n",
    "\n",
    "ax_box.text(s_kpi_total_std.mean(),\n",
    "            1,\n",
    "            s='mean {:.2f}'.format(s_kpi_total_std.mean()),\n",
    "            horizontalalignment='center',\n",
    "            color='dimgrey'\n",
    "            )\n",
    "\n",
    "bins= np.arange(5.5,18.5,1)\n",
    "sns.histplot(data=s_kpi_total_std,\n",
    "            bins=bins,\n",
    "            color='#bebada',\n",
    "            ax=ax_hist,\n",
    "            edgecolor=\"dimgray\"\n",
    "            )\n",
    "            \n",
    "ax_box.set(xlabel='')\n",
    "plt.subplots_adjust(hspace=0.15)\n",
    "plt.xlabel('Days')\n",
    "plt.ylabel('Orders')\n",
    "plt.show()"
   ]
  },
  {
   "cell_type": "markdown",
   "metadata": {},
   "source": [
    "Express Delivery:"
   ]
  },
  {
   "cell_type": "code",
   "execution_count": 47,
   "metadata": {},
   "outputs": [
    {
     "data": {
      "image/png": "[encoded data removed]",
      "text/plain": [
       "<Figure size 800x400 with 2 Axes>"
      ]
     },
     "metadata": {},
     "output_type": "display_data"
    }
   ],
   "source": [
    "sns.set(style='darkgrid')\n",
    "f, (ax_box, ax_hist) = plt.subplots(2,sharex=True,gridspec_kw={'height_ratios':(0.1,0.85)},figsize=(8,4))\n",
    "\n",
    "sns.boxplot(x=s_kpi_total_exp,ax=ax_box,\n",
    "            color='#bebada',\n",
    "            showmeans=True,\n",
    "            meanline=True,\n",
    "            meanprops={'color': 'dimgray', 'ls': '-'},\n",
    "            medianprops={'visible': False}\n",
    "            )\n",
    "\n",
    "ax_box.text(s_kpi_total_exp.mean(),\n",
    "            1,\n",
    "            s='mean {:.2f}'.format(s_kpi_total_exp.mean()),\n",
    "            horizontalalignment='center',\n",
    "            color='dimgrey'\n",
    "            )\n",
    "\n",
    "bins= np.arange(2.5,14.5,1)\n",
    "sns.histplot(data=s_kpi_total_exp,\n",
    "            bins=bins,\n",
    "            color='#bebada',\n",
    "            ax=ax_hist,\n",
    "            edgecolor=\"dimgray\"\n",
    "            )\n",
    "\n",
    "ax_box.set(xlabel='')\n",
    "plt.subplots_adjust(hspace=0.15)\n",
    "plt.xlabel('Days')\n",
    "plt.show()"
   ]
  },
  {
   "cell_type": "code",
   "execution_count": 48,
   "metadata": {},
   "outputs": [],
   "source": [
    "#display(pd.to_numeric(df_kpi_intern.interncycle.dt.days,downcast='integer').describe(),\n",
    "#    pd.to_numeric(df_kpi_extern.externcycle.dt.days,downcast='integer').describe(),\n",
    "#    pd.to_numeric(df_kpi_total.totallead.dt.days,downcast='integer').describe()\n",
    "#    )"
   ]
  },
  {
   "cell_type": "markdown",
   "metadata": {},
   "source": [
    "Extra values for KPI 3:"
   ]
  },
  {
   "cell_type": "code",
   "execution_count": null,
   "metadata": {},
   "outputs": [],
   "source": [
    "display(\n",
    "    pd.to_numeric(df_kpi_total.totallead.dt.days,downcast='integer').mean(),\n",
    "    pd.to_numeric(df_kpi_total.totallead.dt.days,downcast='integer').quantile(q=0.75),\n",
    "    pd.to_numeric(df_kpi_total.totallead.dt.days,downcast='integer').quantile(q=0.95)\n",
    ")"
   ]
  },
  {
   "attachments": {},
   "cell_type": "markdown",
   "metadata": {},
   "source": [
    "All 3 together:  \n",
    "put all 3 KPIs in one board."
   ]
  },
  {
   "cell_type": "code",
   "execution_count": 50,
   "metadata": {},
   "outputs": [],
   "source": [
    "df_plot = pd.concat(\n",
    "    [pd.to_numeric(df_kpi_intern.interncycle.dt.days,downcast='integer'),\n",
    "    pd.to_numeric(df_kpi_extern.externcycle.dt.days,downcast='integer'),\n",
    "    pd.to_numeric(df_kpi_total.totallead.dt.days,downcast='integer')\n",
    "    ],axis=1\n",
    ")"
   ]
  },
  {
   "cell_type": "code",
   "execution_count": 51,
   "metadata": {},
   "outputs": [
    {
     "data": {
      "image/png": "[encoded data removed]",
      "text/plain": [
       "<Figure size 800x400 with 3 Axes>"
      ]
     },
     "metadata": {},
     "output_type": "display_data"
    }
   ],
   "source": [
    "fig,axs = plt.subplots(3,1,figsize =(8,4),sharex=True)\n",
    "\n",
    "\n",
    "axs[0].set(xlim=(-0.5,17.5))\n",
    "\n",
    "sns.histplot(data=df_plot, x='interncycle',ax=axs[0],bins=np.arange(-0.5,9.5,1),color='darkcyan',edgecolor=\"dimgray\")\n",
    "sns.histplot(data=df_plot, x='externcycle',ax=axs[1],bins=np.arange(0.5,8.5,1),color='#ffffb3',edgecolor=\"dimgray\")\n",
    "sns.histplot(data=df_plot, x='totallead',ax=axs[2],bins=np.arange(2.5,18.5,1),color='#bebada',edgecolor=\"dimgray\")\n",
    "axs[0].set_ylabel('')\n",
    "axs[2].set_ylabel('')\n",
    "axs[2].set_xlabel('')\n",
    "plt.show()"
   ]
  },
  {
   "attachments": {},
   "cell_type": "markdown",
   "metadata": {},
   "source": [
    "##### Days between warehouse and shipping\n",
    "There is a difference between the addition of mean from inhouse and mean from logistic. Is there a problem, that most of the orders have a downtime between both cycles?  \n",
    "Let's analyse how much is the impact, when the delivery is able to go on track right after the warehouse process is over(means express shipping)   \n",
    "Values for between:"
   ]
  },
  {
   "cell_type": "code",
   "execution_count": null,
   "metadata": {},
   "outputs": [],
   "source": [
    "df_kpi_btw = df_orders_mrg[df_orders_mrg['btwcycle'].notnull()] \n",
    "pd.to_numeric(df_kpi_btw.btwcycle.dt.days,downcast='integer').describe()"
   ]
  },
  {
   "cell_type": "code",
   "execution_count": 53,
   "metadata": {},
   "outputs": [],
   "source": [
    "ser_kpi_btw_std = pd.concat([df_kpi_btw[df_kpi_btw['ship_mode'] == 'Second Class']['btwcycle'],\n",
    "                                df_kpi_btw[df_kpi_btw['ship_mode'] == 'Standard Class']['btwcycle']])\n",
    "\n",
    "ser_kpi_btw_std = pd.to_numeric(ser_kpi_btw_std.dt.days,downcast='integer')\n",
    "ser_kpi_btw_std.reset_index(inplace=True,drop=True)"
   ]
  },
  {
   "attachments": {},
   "cell_type": "markdown",
   "metadata": {},
   "source": [
    "Standard Process:"
   ]
  },
  {
   "cell_type": "code",
   "execution_count": 54,
   "metadata": {},
   "outputs": [
    {
     "data": {
      "image/png": "[encoded data removed]",
      "text/plain": [
       "<Figure size 640x480 with 1 Axes>"
      ]
     },
     "metadata": {},
     "output_type": "display_data"
    }
   ],
   "source": [
    "fig, ax = plt.subplots()\n",
    "\n",
    "sns.barplot(x=ser_kpi_btw_std.value_counts().index,\n",
    "            y=ser_kpi_btw_std.value_counts(),\n",
    "            color='#fb8072',\n",
    "            edgecolor=\"dimgray\"\n",
    "            )\n",
    "            \n",
    "ax.set_xticklabels(['1 day','2 days','3 days'])\n",
    "plt.show()"
   ]
  },
  {
   "attachments": {},
   "cell_type": "markdown",
   "metadata": {},
   "source": [
    "Express Process:"
   ]
  },
  {
   "cell_type": "code",
   "execution_count": 55,
   "metadata": {},
   "outputs": [
    {
     "data": {
      "image/png": "[encoded data removed]",
      "text/plain": [
       "<Figure size 640x480 with 1 Axes>"
      ]
     },
     "metadata": {},
     "output_type": "display_data"
    }
   ],
   "source": [
    "fig, ax = plt.subplots()\n",
    "\n",
    "sns.barplot(x=df_kpi_btw[df_kpi_btw['ship_mode'] == 'First Class'].btwcycle.value_counts().index,\n",
    "            y=df_kpi_btw[df_kpi_btw['ship_mode'] == 'First Class'].btwcycle.value_counts(),\n",
    "            color='#fb8072',\n",
    "            edgecolor=\"dimgray\"\n",
    "            )\n",
    "            \n",
    "ax.set_xticklabels(['0 days','1 day','2 days'])\n",
    "plt.show()"
   ]
  },
  {
   "attachments": {},
   "cell_type": "markdown",
   "metadata": {},
   "source": [
    "## Evaluation on Day\n",
    "\n",
    "We want to find out how much impact has the weekday an order comes in.  \n",
    "For this we can use the intern process data, because there are `order_date` and `on_truck_scan`."
   ]
  },
  {
   "cell_type": "code",
   "execution_count": 56,
   "metadata": {},
   "outputs": [],
   "source": [
    "df_order_process['weekday_order'] = df_order_process['order_date'].dt.day_of_week\n",
    "df_order_process['order_to_truck'] = df_order_process.on_truck_scan_date - df_order_process.order_date\n",
    "df_order_process['order_to_truck'] =  pd.to_numeric(df_order_process.order_to_truck.dt.days,downcast='integer')"
   ]
  },
  {
   "cell_type": "markdown",
   "metadata": {},
   "source": [
    "We create a crosstable for the days and the duration of an order. Afterwards we create a heatmap with this values."
   ]
  },
  {
   "cell_type": "code",
   "execution_count": 57,
   "metadata": {},
   "outputs": [],
   "source": [
    "df_day_order_duration = pd.crosstab(df_order_process.weekday_order,\n",
    "                                    df_order_process.order_to_truck,\n",
    "                                    normalize='index'\n",
    "                                    ).round(2)\n",
    "df_day_order_duration.reset_index(drop=True,inplace=True)\n",
    "df_day_order_duration.set_axis(['Monday','Tuesday','Wednesday','Thursday','Friday','Saturday','Sunday'], axis='index',inplace=True)\n",
    "\n",
    "df_labels = df_day_order_duration.mask(df_day_order_duration <= 0.15, '')\n",
    "df_labels = df_labels.apply(pd.to_numeric,errors='coerce')\n",
    "df_labels.reset_index(drop=True,inplace=True)\n",
    "#here was a better way hours before\n",
    "annotations = df_labels.astype(str)\n",
    "annotations[np.isnan(df_labels)] = \"\""
   ]
  },
  {
   "cell_type": "code",
   "execution_count": 58,
   "metadata": {},
   "outputs": [
    {
     "data": {
      "image/png": "[encoded data removed]",
      "text/plain": [
       "<Figure size 800x400 with 2 Axes>"
      ]
     },
     "metadata": {},
     "output_type": "display_data"
    }
   ],
   "source": [
    "fig,axs = plt.subplots(1,figsize =(8,4))\n",
    "sns.set(style='darkgrid')\n",
    "sns.heatmap(df_day_order_duration,cmap=\"OrRd\",annot=annotations,fmt='s') #holy **** this fmt='s' thing needed only 1.5h\n",
    "axs.set_xlabel('')\n",
    "plt.show()"
   ]
  }
 ],
 "metadata": {
  "kernelspec": {
   "display_name": "nf_base",
   "language": "python",
   "name": "python3"
  },
  "language_info": {
   "codemirror_mode": {
    "name": "ipython",
    "version": 3
   },
   "file_extension": ".py",
   "mimetype": "text/x-python",
   "name": "python",
   "nbconvert_exporter": "python",
   "pygments_lexer": "ipython3",
   "version": "3.9.16"
  },
  "orig_nbformat": 4,
  "vscode": {
   "interpreter": {
    "hash": "52746facf0ff27bba74d90023bea822bf28860e85219d052de28537e22041b59"
   }
  }
 },
 "nbformat": 4,
 "nbformat_minor": 2
}
